{
 "cells": [
  {
   "cell_type": "markdown",
   "id": "f1b291d3",
   "metadata": {},
   "source": [
    "# [GD-4]NewsMulticlassClassification"
   ]
  },
  {
   "cell_type": "code",
   "execution_count": 1,
   "id": "2e278b67",
   "metadata": {},
   "outputs": [],
   "source": [
    "from tensorflow.keras.datasets import reuters\n",
    "import matplotlib.pyplot as plt\n",
    "import seaborn as sns\n",
    "import numpy as np\n",
    "import pandas as pd\n",
    "\n",
    "from sklearn.feature_extraction.text import CountVectorizer\n",
    "from sklearn.feature_extraction.text import TfidfTransformer\n",
    "\n",
    "from sklearn.naive_bayes import MultinomialNB #다항분포 나이브 베이즈 모델\n",
    "from sklearn.linear_model import LogisticRegression, SGDClassifier\n",
    "from sklearn.naive_bayes import ComplementNB\n",
    "from sklearn.tree import DecisionTreeClassifier\n",
    "from sklearn.ensemble import RandomForestClassifier\n",
    "from sklearn.ensemble import GradientBoostingClassifier\n",
    "from sklearn.ensemble import VotingClassifier\n",
    "from sklearn.svm import LinearSVC\n",
    "from sklearn.metrics import accuracy_score #정확도 계산\n",
    "\n",
    "from sklearn.metrics import classification_report\n",
    "from sklearn.metrics import confusion_matrix\n"
   ]
  },
  {
   "cell_type": "markdown",
   "id": "3a9ebfb1",
   "metadata": {},
   "source": [
    "## 1. 모든 단어 사용"
   ]
  },
  {
   "cell_type": "code",
   "execution_count": 2,
   "id": "65f1e9ce",
   "metadata": {},
   "outputs": [
    {
     "name": "stdout",
     "output_type": "stream",
     "text": [
      "Downloading data from https://storage.googleapis.com/tensorflow/tf-keras-datasets/reuters.npz\n",
      "2113536/2110848 [==============================] - 0s 0us/step\n",
      "2121728/2110848 [==============================] - 0s 0us/step\n"
     ]
    }
   ],
   "source": [
    "(x_train, y_train), (x_test, y_test) = reuters.load_data(num_words=None, \n",
    "                                                         test_split=0.2)"
   ]
  },
  {
   "cell_type": "code",
   "execution_count": 3,
   "id": "c0752ac5",
   "metadata": {},
   "outputs": [
    {
     "name": "stdout",
     "output_type": "stream",
     "text": [
      "훈련용 뉴스의 최대 길이 :2376\n",
      "훈련용 뉴스의 평균 길이 :145.5398574927633\n"
     ]
    },
    {
     "data": {
      "image/png": "[encoded data removed]",
      "text/plain": [
       "<Figure size 432x288 with 1 Axes>"
      ]
     },
     "metadata": {
      "needs_background": "light"
     },
     "output_type": "display_data"
    }
   ],
   "source": [
    "# 데이터 분포 파악\n",
    "print('훈련용 뉴스의 최대 길이 :{}'.format(max(len(l) for l in x_train)))\n",
    "print('훈련용 뉴스의 평균 길이 :{}'.format(sum(map(len, x_train))/len(x_train)))\n",
    "\n",
    "plt.hist([len(s) for s in x_train], bins=50)\n",
    "plt.xlabel('length of samples')\n",
    "plt.ylabel('number of samples')\n",
    "plt.show()"
   ]
  },
  {
   "cell_type": "code",
   "execution_count": 4,
   "id": "dcc872ea",
   "metadata": {},
   "outputs": [
    {
     "name": "stderr",
     "output_type": "stream",
     "text": [
      "/opt/conda/lib/python3.9/site-packages/seaborn/_decorators.py:36: FutureWarning: Pass the following variable as a keyword arg: x. From version 0.12, the only valid positional argument will be `data`, and passing other arguments without an explicit keyword will result in an error or misinterpretation.\n",
      "  warnings.warn(\n"
     ]
    },
    {
     "data": {
      "text/plain": [
       "<AxesSubplot:ylabel='count'>"
      ]
     },
     "execution_count": 4,
     "metadata": {},
     "output_type": "execute_result"
    },
    {
     "data": {
      "image/png": "[encoded data removed]",
      "text/plain": [
       "<Figure size 864x360 with 1 Axes>"
      ]
     },
     "metadata": {
      "needs_background": "light"
     },
     "output_type": "display_data"
    }
   ],
   "source": [
    "# 타겟데이터 파악\n",
    "fig, axe = plt.subplots(ncols=1)\n",
    "fig.set_size_inches(12, 5)\n",
    "sns.countplot(y_train)"
   ]
  },
  {
   "cell_type": "code",
   "execution_count": 5,
   "id": "bb3272f5",
   "metadata": {},
   "outputs": [
    {
     "name": "stdout",
     "output_type": "stream",
     "text": [
      "Downloading data from https://storage.googleapis.com/tensorflow/tf-keras-datasets/reuters_word_index.json\n",
      "557056/550378 [==============================] - 0s 0us/step\n",
      "565248/550378 [==============================] - 0s 0us/step\n"
     ]
    }
   ],
   "source": [
    "# 텍스트 데이터로 복원\n",
    "word_index = reuters.get_word_index(path=\"reuters_word_index.json\")\n",
    "\n",
    "# 인덱스 +3\n",
    "index_to_word = {index + 3 : word for word, index in word_index.items()}\n",
    "\n",
    "# index_to_word에서 숫자 0은 <pad>, 숫자 1은 <sos>, 숫자 2는 <unk> 로 설정\n",
    "for index, token in enumerate((\"<pad>\", \"<sos>\", \"<unk>\")):\n",
    "    index_to_word[index] = token"
   ]
  },
  {
   "cell_type": "code",
   "execution_count": 6,
   "id": "e187b797",
   "metadata": {},
   "outputs": [],
   "source": [
    "# 전체 학습데이터 복원\n",
    "decoded = []\n",
    "for i in range(len(x_train)):\n",
    "    t = ' '.join([index_to_word[index] for index in x_train[i]])\n",
    "    decoded.append(t)\n",
    "    \n",
    "x_train = decoded"
   ]
  },
  {
   "cell_type": "code",
   "execution_count": 7,
   "id": "c3e799a5",
   "metadata": {},
   "outputs": [],
   "source": [
    "# 전체 테스트데이터 복원\n",
    "decoded = []\n",
    "for i in range(len(x_test)):\n",
    "    t = ' '.join([index_to_word[index] for index in x_test[i]])\n",
    "    decoded.append(t)\n",
    "    \n",
    "x_test = decoded"
   ]
  },
  {
   "cell_type": "code",
   "execution_count": 8,
   "id": "38c9ea43",
   "metadata": {},
   "outputs": [
    {
     "name": "stdout",
     "output_type": "stream",
     "text": [
      "(8982, 26506)\n"
     ]
    }
   ],
   "source": [
    "# DTM 확인\n",
    "dtmvector = CountVectorizer()\n",
    "x_train_dtm = dtmvector.fit_transform(x_train)\n",
    "print(x_train_dtm.shape)\n",
    "\n",
    "# 테스트 데이터\n",
    "x_test_dtm = dtmvector.transform(x_test)  # 테스트 데이터를 DTM 으로 변환"
   ]
  },
  {
   "cell_type": "code",
   "execution_count": 9,
   "id": "ad724726",
   "metadata": {},
   "outputs": [
    {
     "name": "stdout",
     "output_type": "stream",
     "text": [
      "(8982, 26506)\n"
     ]
    }
   ],
   "source": [
    "# TF-IDF Matrix 확인\n",
    "tfidf_transformer = TfidfTransformer()\n",
    "tfidfv = tfidf_transformer.fit_transform(x_train_dtm)\n",
    "print(tfidfv.shape)\n",
    "\n",
    "# 테스트 데이터\n",
    "tfidfv_test = tfidf_transformer.transform(x_test_dtm)  # DTM을 TF-ODF 행렬로 변환"
   ]
  },
  {
   "cell_type": "markdown",
   "id": "38367279",
   "metadata": {},
   "source": [
    "## 모델별 정확도 예측"
   ]
  },
  {
   "cell_type": "code",
   "execution_count": 10,
   "id": "71cc9f7a",
   "metadata": {},
   "outputs": [],
   "source": [
    "# 결과값 비교를 위한 리스트 선언\n",
    "classifier_list = [\"MultinomialNB\", \"ComplementNB\", \"Logistic Regression\", \"LinearSVC\", \"Decision Tree\", \"Random Forest\", \"GradientBoostingClassifier\", \"Voting\"]\n",
    "classifier_answer_list = []"
   ]
  },
  {
   "cell_type": "markdown",
   "id": "ea522e26",
   "metadata": {},
   "source": [
    "### 나이브 베이즈 분류기"
   ]
  },
  {
   "cell_type": "code",
   "execution_count": 11,
   "id": "cf03c51c",
   "metadata": {},
   "outputs": [
    {
     "name": "stdout",
     "output_type": "stream",
     "text": [
      "정확도 : 0.5997328584149599\n"
     ]
    }
   ],
   "source": [
    "mod = MultinomialNB()\n",
    "mod.fit(tfidfv, y_train)\n",
    "\n",
    "predicted = mod.predict(tfidfv_test)  # 테스트 데이터에 대한 예측\n",
    "print(\"정확도 :\", accuracy_score(y_test, predicted))  # 예측값과 실제값 비교\n",
    "\n",
    "classifier_answer_list.append(accuracy_score(y_test, predicted))"
   ]
  },
  {
   "cell_type": "markdown",
   "id": "97d14863",
   "metadata": {},
   "source": [
    "### Complement Naive Bayes Classifier(CNB)"
   ]
  },
  {
   "cell_type": "code",
   "execution_count": 12,
   "id": "5dae77da",
   "metadata": {},
   "outputs": [
    {
     "name": "stdout",
     "output_type": "stream",
     "text": [
      "정확도 : 0.7649154051647373\n"
     ]
    }
   ],
   "source": [
    "cb = ComplementNB()\n",
    "cb.fit(tfidfv, y_train)\n",
    "\n",
    "predicted = cb.predict(tfidfv_test)\n",
    "print(\"정확도 :\", accuracy_score(y_test, predicted))\n",
    "\n",
    "classifier_answer_list.append(accuracy_score(y_test, predicted))"
   ]
  },
  {
   "cell_type": "markdown",
   "id": "20a17885",
   "metadata": {},
   "source": [
    "### 로지스틱 회귀"
   ]
  },
  {
   "cell_type": "code",
   "execution_count": 13,
   "id": "747f5ad7",
   "metadata": {},
   "outputs": [
    {
     "name": "stdout",
     "output_type": "stream",
     "text": [
      "정확도 : 0.813446126447017\n"
     ]
    },
    {
     "name": "stderr",
     "output_type": "stream",
     "text": [
      "/opt/conda/lib/python3.9/site-packages/sklearn/linear_model/_logistic.py:814: ConvergenceWarning: lbfgs failed to converge (status=1):\n",
      "STOP: TOTAL NO. of ITERATIONS REACHED LIMIT.\n",
      "\n",
      "Increase the number of iterations (max_iter) or scale the data as shown in:\n",
      "    https://scikit-learn.org/stable/modules/preprocessing.html\n",
      "Please also refer to the documentation for alternative solver options:\n",
      "    https://scikit-learn.org/stable/modules/linear_model.html#logistic-regression\n",
      "  n_iter_i = _check_optimize_result(\n"
     ]
    }
   ],
   "source": [
    "lr = LogisticRegression(C=10000, penalty='l2')\n",
    "lr.fit(tfidfv, y_train)\n",
    "\n",
    "predicted = lr.predict(tfidfv_test)\n",
    "print(\"정확도 :\", accuracy_score(y_test, predicted))\n",
    "\n",
    "classifier_answer_list.append(accuracy_score(y_test, predicted))"
   ]
  },
  {
   "cell_type": "markdown",
   "id": "00a5fa31",
   "metadata": {},
   "source": [
    "### 선형 서포트 벡터 머신"
   ]
  },
  {
   "cell_type": "code",
   "execution_count": 14,
   "id": "3d17e309",
   "metadata": {},
   "outputs": [
    {
     "name": "stdout",
     "output_type": "stream",
     "text": [
      "정확도 : 0.782279608192342\n"
     ]
    },
    {
     "name": "stderr",
     "output_type": "stream",
     "text": [
      "/opt/conda/lib/python3.9/site-packages/sklearn/svm/_base.py:1199: ConvergenceWarning: Liblinear failed to converge, increase the number of iterations.\n",
      "  warnings.warn(\n"
     ]
    }
   ],
   "source": [
    "lsvc = LinearSVC(C=1000, penalty='l1', max_iter=500, dual=False)\n",
    "lsvc.fit(tfidfv, y_train)\n",
    "\n",
    "predicted = lsvc.predict(tfidfv_test)\n",
    "print(\"정확도 :\", accuracy_score(y_test, predicted))\n",
    "\n",
    "classifier_answer_list.append(accuracy_score(y_test, predicted))"
   ]
  },
  {
   "cell_type": "markdown",
   "id": "9e3c53b8",
   "metadata": {},
   "source": [
    "### 결정 트리"
   ]
  },
  {
   "cell_type": "code",
   "execution_count": 15,
   "id": "f43b749b",
   "metadata": {},
   "outputs": [
    {
     "name": "stdout",
     "output_type": "stream",
     "text": [
      "정확도 : 0.6211041852181657\n"
     ]
    }
   ],
   "source": [
    "tree = DecisionTreeClassifier(max_depth=10, random_state=0)\n",
    "tree.fit(tfidfv, y_train)\n",
    "\n",
    "predicted = tree.predict(tfidfv_test)\n",
    "print(\"정확도 :\", accuracy_score(y_test, predicted))\n",
    "\n",
    "classifier_answer_list.append(accuracy_score(y_test, predicted))"
   ]
  },
  {
   "cell_type": "markdown",
   "id": "fa30cc6e",
   "metadata": {},
   "source": [
    "### 랜덤 포레스트"
   ]
  },
  {
   "cell_type": "code",
   "execution_count": 16,
   "id": "7c1d5e57",
   "metadata": {},
   "outputs": [
    {
     "name": "stdout",
     "output_type": "stream",
     "text": [
      "정확도 : 0.6544968833481746\n"
     ]
    }
   ],
   "source": [
    "forest = RandomForestClassifier(n_estimators=5, random_state=0)\n",
    "forest.fit(tfidfv, y_train)\n",
    "\n",
    "predicted = forest.predict(tfidfv_test)\n",
    "print(\"정확도 :\", accuracy_score(y_test, predicted))\n",
    "\n",
    "classifier_answer_list.append(accuracy_score(y_test, predicted))"
   ]
  },
  {
   "cell_type": "markdown",
   "id": "ab5e58b1",
   "metadata": {},
   "source": [
    "### 그래디언트 부스팅 트리"
   ]
  },
  {
   "cell_type": "code",
   "execution_count": 17,
   "id": "bac84ade",
   "metadata": {},
   "outputs": [
    {
     "name": "stdout",
     "output_type": "stream",
     "text": [
      "정확도 : 0.7702582368655387\n"
     ]
    }
   ],
   "source": [
    "grbt = GradientBoostingClassifier(random_state=0)\n",
    "grbt.fit(tfidfv, y_train)\n",
    "\n",
    "predicted = grbt.predict(tfidfv_test)\n",
    "print(\"정확도 :\", accuracy_score(y_test, predicted))\n",
    "\n",
    "classifier_answer_list.append(accuracy_score(y_test, predicted))"
   ]
  },
  {
   "cell_type": "markdown",
   "id": "54687f18",
   "metadata": {},
   "source": [
    "### 보팅(로지스틱 회귀, CNB, 그래디언트 부스팅 트리 세 가지 사용)"
   ]
  },
  {
   "cell_type": "code",
   "execution_count": 19,
   "id": "c4c55554",
   "metadata": {},
   "outputs": [
    {
     "name": "stderr",
     "output_type": "stream",
     "text": [
      "/opt/conda/lib/python3.9/site-packages/sklearn/linear_model/_logistic.py:814: ConvergenceWarning: lbfgs failed to converge (status=1):\n",
      "STOP: TOTAL NO. of ITERATIONS REACHED LIMIT.\n",
      "\n",
      "Increase the number of iterations (max_iter) or scale the data as shown in:\n",
      "    https://scikit-learn.org/stable/modules/preprocessing.html\n",
      "Please also refer to the documentation for alternative solver options:\n",
      "    https://scikit-learn.org/stable/modules/linear_model.html#logistic-regression\n",
      "  n_iter_i = _check_optimize_result(\n"
     ]
    },
    {
     "name": "stdout",
     "output_type": "stream",
     "text": [
      "정확도 : 0.8187889581478184\n"
     ]
    }
   ],
   "source": [
    "voting_classifier = VotingClassifier(estimators=[\n",
    "    ('lr', LogisticRegression(C=10000, penalty='l2')),\n",
    "    ('cb', ComplementNB()),\n",
    "    ('grbt', GradientBoostingClassifier(random_state=0))\n",
    "], voting='soft', n_jobs=-1)\n",
    "voting_classifier.fit(tfidfv, y_train)\n",
    "\n",
    "predicted = voting_classifier.predict(tfidfv_test)\n",
    "print(\"정확도 :\", accuracy_score(y_test, predicted))\n",
    "\n",
    "classifier_answer_list.append(accuracy_score(y_test, predicted))"
   ]
  },
  {
   "cell_type": "markdown",
   "id": "656ee28d",
   "metadata": {},
   "source": [
    "### 전체 결과 & f1 score"
   ]
  },
  {
   "cell_type": "code",
   "execution_count": 20,
   "id": "63de6c05",
   "metadata": {},
   "outputs": [
    {
     "name": "stdout",
     "output_type": "stream",
     "text": [
      "빈도수 제한없을 때 정확도 리스트\n",
      "\n",
      "MultinomialNB : 0.6\n",
      "ComplementNB : 0.76\n",
      "Logistic Regression : 0.81\n",
      "LinearSVC : 0.78\n",
      "Decision Tree : 0.62\n",
      "Random Forest : 0.65\n",
      "GradientBoostingClassifier : 0.77\n",
      "Voting : 0.82\n"
     ]
    }
   ],
   "source": [
    "# 전체 결과 비교\n",
    "\n",
    "print(\"빈도수 제한없을 때 정확도 리스트\\n\")\n",
    "\n",
    "for x in range(len(classifier_list)):\n",
    "    print(classifier_list[x], \":\", classifier_answer_list[x].round(2))\n"
   ]
  },
  {
   "cell_type": "code",
   "execution_count": 23,
   "id": "5334a3cc",
   "metadata": {},
   "outputs": [
    {
     "name": "stdout",
     "output_type": "stream",
     "text": [
      "f1 score :               precision    recall  f1-score   support\n",
      "\n",
      "           0       0.75      0.75      0.75        12\n",
      "           1       0.80      0.77      0.79       105\n",
      "           2       0.67      0.80      0.73        20\n",
      "           3       0.93      0.94      0.93       813\n",
      "           4       0.82      0.88      0.85       474\n",
      "           5       1.00      0.20      0.33         5\n",
      "           6       0.87      0.93      0.90        14\n",
      "           7       1.00      0.33      0.50         3\n",
      "           8       0.69      0.71      0.70        38\n",
      "           9       0.80      0.80      0.80        25\n",
      "          10       0.90      0.90      0.90        30\n",
      "          11       0.67      0.71      0.69        83\n",
      "          12       0.60      0.46      0.52        13\n",
      "          13       0.69      0.65      0.67        37\n",
      "          14       0.29      1.00      0.44         2\n",
      "          15       0.40      0.22      0.29         9\n",
      "          16       0.73      0.76      0.74        99\n",
      "          17       0.75      0.50      0.60        12\n",
      "          18       0.73      0.55      0.63        20\n",
      "          19       0.71      0.71      0.71       133\n",
      "          20       0.66      0.50      0.57        70\n",
      "          21       0.63      0.81      0.71        27\n",
      "          22       1.00      0.14      0.25         7\n",
      "          23       0.62      0.67      0.64        12\n",
      "          24       0.73      0.58      0.65        19\n",
      "          25       0.92      0.77      0.84        31\n",
      "          26       1.00      1.00      1.00         8\n",
      "          27       0.67      0.50      0.57         4\n",
      "          28       0.33      0.30      0.32        10\n",
      "          29       0.50      1.00      0.67         4\n",
      "          30       0.54      0.58      0.56        12\n",
      "          31       0.82      0.69      0.75        13\n",
      "          32       1.00      1.00      1.00        10\n",
      "          33       0.83      1.00      0.91         5\n",
      "          34       0.80      0.57      0.67         7\n",
      "          35       1.00      0.33      0.50         6\n",
      "          36       0.54      0.64      0.58        11\n",
      "          37       0.50      0.50      0.50         2\n",
      "          38       0.50      0.33      0.40         3\n",
      "          39       0.25      0.20      0.22         5\n",
      "          40       1.00      0.40      0.57        10\n",
      "          41       0.80      0.50      0.62         8\n",
      "          42       1.00      1.00      1.00         3\n",
      "          43       0.83      0.83      0.83         6\n",
      "          44       0.80      0.80      0.80         5\n",
      "          45       0.50      1.00      0.67         1\n",
      "\n",
      "    accuracy                           0.82      2246\n",
      "   macro avg       0.73      0.66      0.66      2246\n",
      "weighted avg       0.82      0.82      0.81      2246\n",
      "\n"
     ]
    }
   ],
   "source": [
    "# f1 score 알아보기\n",
    "#from sklearn.metrics import f1_score\n",
    "\n",
    "predicted = voting_classifier.predict(tfidfv_test)\n",
    "# print(\"f1 score :\", f1_score(y_test, predicted, average='micro'))\n",
    "print(\"f1 score :\", classification_report(y_test, predicted, zero_division=0))"
   ]
  },
  {
   "cell_type": "markdown",
   "id": "6ea31a35",
   "metadata": {},
   "source": [
    "## 2. 빈도수 상위 5000개의 단어만 사용"
   ]
  },
  {
   "cell_type": "code",
   "execution_count": 27,
   "id": "9bd8d977",
   "metadata": {},
   "outputs": [],
   "source": [
    "(x_train, y_train), (x_test, y_test) = reuters.load_data(num_words=5000, \n",
    "                                                         test_split=0.2)"
   ]
  },
  {
   "cell_type": "code",
   "execution_count": 28,
   "id": "70d80da7",
   "metadata": {},
   "outputs": [
    {
     "name": "stdout",
     "output_type": "stream",
     "text": [
      "훈련용 뉴스의 최대 길이 :2376\n",
      "훈련용 뉴스의 평균 길이 :145.5398574927633\n"
     ]
    },
    {
     "data": {
      "image/png": "[encoded data removed]",
      "text/plain": [
       "<Figure size 432x288 with 1 Axes>"
      ]
     },
     "metadata": {
      "needs_background": "light"
     },
     "output_type": "display_data"
    }
   ],
   "source": [
    "# 데이터 분포 파악\n",
    "print('훈련용 뉴스의 최대 길이 :{}'.format(max(len(l) for l in x_train)))\n",
    "print('훈련용 뉴스의 평균 길이 :{}'.format(sum(map(len, x_train))/len(x_train)))\n",
    "\n",
    "plt.hist([len(s) for s in x_train], bins=50)\n",
    "plt.xlabel('length of samples')\n",
    "plt.ylabel('number of samples')\n",
    "plt.show()"
   ]
  },
  {
   "cell_type": "code",
   "execution_count": 29,
   "id": "336b0776",
   "metadata": {},
   "outputs": [
    {
     "name": "stderr",
     "output_type": "stream",
     "text": [
      "/opt/conda/lib/python3.9/site-packages/seaborn/_decorators.py:36: FutureWarning: Pass the following variable as a keyword arg: x. From version 0.12, the only valid positional argument will be `data`, and passing other arguments without an explicit keyword will result in an error or misinterpretation.\n",
      "  warnings.warn(\n"
     ]
    },
    {
     "data": {
      "text/plain": [
       "<AxesSubplot:ylabel='count'>"
      ]
     },
     "execution_count": 29,
     "metadata": {},
     "output_type": "execute_result"
    },
    {
     "data": {
      "image/png": "[encoded data removed]",
      "text/plain": [
       "<Figure size 864x360 with 1 Axes>"
      ]
     },
     "metadata": {
      "needs_background": "light"
     },
     "output_type": "display_data"
    }
   ],
   "source": [
    "# 타겟데이터 파악\n",
    "fig, axe = plt.subplots(ncols=1)\n",
    "fig.set_size_inches(12, 5)\n",
    "sns.countplot(y_train)"
   ]
  },
  {
   "cell_type": "code",
   "execution_count": 30,
   "id": "e2be1c93",
   "metadata": {},
   "outputs": [],
   "source": [
    "# 텍스트 데이터로 복원\n",
    "word_index = reuters.get_word_index(path=\"reuters_word_index.json\")\n",
    "\n",
    "# 인덱스 +3\n",
    "index_to_word = {index + 3 : word for word, index in word_index.items()}\n",
    "\n",
    "# index_to_word에서 숫자 0은 <pad>, 숫자 1은 <sos>, 숫자 2는 <unk> 로 설정\n",
    "for index, token in enumerate((\"<pad>\", \"<sos>\", \"<unk>\")):\n",
    "    index_to_word[index] = token"
   ]
  },
  {
   "cell_type": "code",
   "execution_count": 31,
   "id": "28f454ea",
   "metadata": {},
   "outputs": [],
   "source": [
    "# 전체 학습데이터 복원\n",
    "decoded = []\n",
    "for i in range(len(x_train)):\n",
    "    t = ' '.join([index_to_word[index] for index in x_train[i]])\n",
    "    decoded.append(t)\n",
    "\n",
    "x_train = decoded"
   ]
  },
  {
   "cell_type": "code",
   "execution_count": 32,
   "id": "625372e5",
   "metadata": {},
   "outputs": [],
   "source": [
    "# 전체 테스트데이터 복원\n",
    "decoded = []\n",
    "for i in range(len(x_test)):\n",
    "    t = ' '.join([index_to_word[index] for index in x_test[i]])\n",
    "    decoded.append(t)\n",
    "\n",
    "x_test = decoded"
   ]
  },
  {
   "cell_type": "code",
   "execution_count": 33,
   "id": "dd8e2b6f",
   "metadata": {},
   "outputs": [
    {
     "name": "stdout",
     "output_type": "stream",
     "text": [
      "(8982, 4867)\n"
     ]
    }
   ],
   "source": [
    "# DTM 확인\n",
    "dtmvector = CountVectorizer()\n",
    "x_train_dtm = dtmvector.fit_transform(x_train)\n",
    "print(x_train_dtm.shape)\n",
    "\n",
    "# 테스트데이터\n",
    "x_test_dtm = dtmvector.transform(x_test) #테스트 데이터를 DTM으로 변환"
   ]
  },
  {
   "cell_type": "code",
   "execution_count": 34,
   "id": "718f506f",
   "metadata": {},
   "outputs": [
    {
     "name": "stdout",
     "output_type": "stream",
     "text": [
      "(8982, 4867)\n"
     ]
    }
   ],
   "source": [
    "# TF-IDF Matrix확인\n",
    "tfidf_transformer = TfidfTransformer()\n",
    "tfidfv = tfidf_transformer.fit_transform(x_train_dtm)\n",
    "print(tfidfv.shape)\n",
    "\n",
    "# 테스트데이터\n",
    "tfidfv_test = tfidf_transformer.transform(x_test_dtm) #DTM을 TF-IDF 행렬로 변환"
   ]
  },
  {
   "cell_type": "markdown",
   "id": "6b95057c",
   "metadata": {},
   "source": [
    "## 모델별 정확도 예측"
   ]
  },
  {
   "cell_type": "code",
   "execution_count": 35,
   "id": "d7678422",
   "metadata": {},
   "outputs": [],
   "source": [
    "# 결과값 비교를 위한 리스트 선언\n",
    "classifier_list = [\"MultinomialNB\", \"ComplementNB\", \"Logistic Regression\", \"LinearSVC\", \"Decision Tree\", \"Random Forest\", \"GradientBoostingClassifier\", \"Voting\"]\n",
    "classifier_answer_list = []"
   ]
  },
  {
   "cell_type": "markdown",
   "id": "70d51136",
   "metadata": {},
   "source": [
    "### 나이브 베이즈 분류기"
   ]
  },
  {
   "cell_type": "code",
   "execution_count": 36,
   "id": "f0c4799d",
   "metadata": {},
   "outputs": [
    {
     "name": "stdout",
     "output_type": "stream",
     "text": [
      "정확도 : 0.6731967943009796\n"
     ]
    }
   ],
   "source": [
    "mod = MultinomialNB()\n",
    "mod.fit(tfidfv, y_train)\n",
    "\n",
    "predicted = mod.predict(tfidfv_test)  # 테스트 데이터에 대한 예측\n",
    "print(\"정확도 :\", accuracy_score(y_test, predicted))  # 예측값과 실제값 비교\n",
    "\n",
    "classifier_answer_list.append(accuracy_score(y_test, predicted))"
   ]
  },
  {
   "cell_type": "markdown",
   "id": "f082d3bf",
   "metadata": {},
   "source": [
    "### Complement Naive Bayes Classifier(CNB)"
   ]
  },
  {
   "cell_type": "code",
   "execution_count": 37,
   "id": "67364f5f",
   "metadata": {},
   "outputs": [
    {
     "name": "stdout",
     "output_type": "stream",
     "text": [
      "정확도 : 0.7707034728406055\n"
     ]
    }
   ],
   "source": [
    "cb = ComplementNB()\n",
    "cb.fit(tfidfv, y_train)\n",
    "\n",
    "predicted = cb.predict(tfidfv_test)\n",
    "print(\"정확도 :\", accuracy_score(y_test, predicted))\n",
    "\n",
    "classifier_answer_list.append(accuracy_score(y_test, predicted))"
   ]
  },
  {
   "cell_type": "markdown",
   "id": "6ba8a799",
   "metadata": {},
   "source": [
    "### 로지스틱 회귀"
   ]
  },
  {
   "cell_type": "code",
   "execution_count": 38,
   "id": "eca73473",
   "metadata": {},
   "outputs": [
    {
     "name": "stdout",
     "output_type": "stream",
     "text": [
      "정확도 : 0.8058771148708815\n"
     ]
    },
    {
     "name": "stderr",
     "output_type": "stream",
     "text": [
      "/opt/conda/lib/python3.9/site-packages/sklearn/linear_model/_logistic.py:814: ConvergenceWarning: lbfgs failed to converge (status=1):\n",
      "STOP: TOTAL NO. of ITERATIONS REACHED LIMIT.\n",
      "\n",
      "Increase the number of iterations (max_iter) or scale the data as shown in:\n",
      "    https://scikit-learn.org/stable/modules/preprocessing.html\n",
      "Please also refer to the documentation for alternative solver options:\n",
      "    https://scikit-learn.org/stable/modules/linear_model.html#logistic-regression\n",
      "  n_iter_i = _check_optimize_result(\n"
     ]
    }
   ],
   "source": [
    "lr = LogisticRegression(C=10000, penalty='l2')\n",
    "lr.fit(tfidfv, y_train)\n",
    "\n",
    "predicted = lr.predict(tfidfv_test)\n",
    "print(\"정확도 :\", accuracy_score(y_test, predicted))\n",
    "\n",
    "classifier_answer_list.append(accuracy_score(y_test, predicted))"
   ]
  },
  {
   "cell_type": "markdown",
   "id": "5f532841",
   "metadata": {},
   "source": [
    "### 선형 서포트 벡터 머신"
   ]
  },
  {
   "cell_type": "code",
   "execution_count": 39,
   "id": "56ecd174",
   "metadata": {},
   "outputs": [
    {
     "name": "stdout",
     "output_type": "stream",
     "text": [
      "정확도 : 0.7733748886910062\n"
     ]
    },
    {
     "name": "stderr",
     "output_type": "stream",
     "text": [
      "/opt/conda/lib/python3.9/site-packages/sklearn/svm/_base.py:1199: ConvergenceWarning: Liblinear failed to converge, increase the number of iterations.\n",
      "  warnings.warn(\n"
     ]
    }
   ],
   "source": [
    "lsvc = LinearSVC(C=1000, penalty='l1', max_iter=500, dual=False)\n",
    "lsvc.fit(tfidfv, y_train)\n",
    "\n",
    "predicted = lsvc.predict(tfidfv_test)\n",
    "print(\"정확도 :\", accuracy_score(y_test, predicted))\n",
    "\n",
    "classifier_answer_list.append(accuracy_score(y_test, predicted))"
   ]
  },
  {
   "cell_type": "markdown",
   "id": "9401e23c",
   "metadata": {},
   "source": [
    "### 결정 트리"
   ]
  },
  {
   "cell_type": "code",
   "execution_count": 40,
   "id": "2ae46e43",
   "metadata": {},
   "outputs": [
    {
     "name": "stdout",
     "output_type": "stream",
     "text": [
      "정확도 : 0.6179875333926982\n"
     ]
    }
   ],
   "source": [
    "tree = DecisionTreeClassifier(max_depth=10, random_state=0)\n",
    "tree.fit(tfidfv, y_train)\n",
    "\n",
    "predicted = tree.predict(tfidfv_test)\n",
    "print(\"정확도 :\", accuracy_score(y_test, predicted))\n",
    "\n",
    "classifier_answer_list.append(accuracy_score(y_test, predicted))"
   ]
  },
  {
   "cell_type": "markdown",
   "id": "d686d54c",
   "metadata": {},
   "source": [
    "### 랜덤 포레스트"
   ]
  },
  {
   "cell_type": "code",
   "execution_count": 41,
   "id": "9e27484b",
   "metadata": {},
   "outputs": [
    {
     "name": "stdout",
     "output_type": "stream",
     "text": [
      "정확도 : 0.701246660730187\n"
     ]
    }
   ],
   "source": [
    "forest = RandomForestClassifier(n_estimators=5, random_state=0)\n",
    "forest.fit(tfidfv, y_train)\n",
    "\n",
    "predicted = forest.predict(tfidfv_test)\n",
    "print(\"정확도 :\", accuracy_score(y_test, predicted))\n",
    "\n",
    "classifier_answer_list.append(accuracy_score(y_test, predicted))"
   ]
  },
  {
   "cell_type": "markdown",
   "id": "773e6b3d",
   "metadata": {},
   "source": [
    "### 그래디언트 부스팅 트리"
   ]
  },
  {
   "cell_type": "code",
   "execution_count": 42,
   "id": "6fea97d9",
   "metadata": {},
   "outputs": [
    {
     "name": "stdout",
     "output_type": "stream",
     "text": [
      "정확도 : 0.767586821015138\n"
     ]
    }
   ],
   "source": [
    "grbt = GradientBoostingClassifier(random_state=0)\n",
    "grbt.fit(tfidfv, y_train)\n",
    "\n",
    "predicted = grbt.predict(tfidfv_test)\n",
    "print(\"정확도 :\", accuracy_score(y_test, predicted))\n",
    "\n",
    "classifier_answer_list.append(accuracy_score(y_test, predicted))"
   ]
  },
  {
   "cell_type": "markdown",
   "id": "9687a536",
   "metadata": {},
   "source": [
    "### 보팅(로지스틱 회귀, CNB, 그래디언트 부스팅 트리 세 가지 사용)"
   ]
  },
  {
   "cell_type": "code",
   "execution_count": 43,
   "id": "358947b1",
   "metadata": {},
   "outputs": [
    {
     "name": "stderr",
     "output_type": "stream",
     "text": [
      "/opt/conda/lib/python3.9/site-packages/sklearn/linear_model/_logistic.py:814: ConvergenceWarning: lbfgs failed to converge (status=1):\n",
      "STOP: TOTAL NO. of ITERATIONS REACHED LIMIT.\n",
      "\n",
      "Increase the number of iterations (max_iter) or scale the data as shown in:\n",
      "    https://scikit-learn.org/stable/modules/preprocessing.html\n",
      "Please also refer to the documentation for alternative solver options:\n",
      "    https://scikit-learn.org/stable/modules/linear_model.html#logistic-regression\n",
      "  n_iter_i = _check_optimize_result(\n"
     ]
    },
    {
     "name": "stdout",
     "output_type": "stream",
     "text": [
      "정확도 : 0.8161175422974176\n"
     ]
    }
   ],
   "source": [
    "voting_classifier = VotingClassifier(estimators=[\n",
    "    ('lr', LogisticRegression(C=10000, penalty='l2')),\n",
    "    ('cb', ComplementNB()),\n",
    "    ('grbt', GradientBoostingClassifier(random_state=0))\n",
    "], voting='soft', n_jobs=-1)\n",
    "voting_classifier.fit(tfidfv, y_train)\n",
    "\n",
    "predicted = voting_classifier.predict(tfidfv_test)\n",
    "print(\"정확도 :\", accuracy_score(y_test, predicted))\n",
    "\n",
    "classifier_answer_list.append(accuracy_score(y_test, predicted))"
   ]
  },
  {
   "cell_type": "markdown",
   "id": "a2269d64",
   "metadata": {},
   "source": [
    "### 전체 결과 & f1 score"
   ]
  },
  {
   "cell_type": "code",
   "execution_count": 44,
   "id": "d11c3453",
   "metadata": {},
   "outputs": [
    {
     "name": "stdout",
     "output_type": "stream",
     "text": [
      "빈도수 상위 5000개의 단어만 사용했을 때 정확도 리스트\n",
      "\n",
      "MultinomialNB : 0.67\n",
      "ComplementNB : 0.77\n",
      "Logistic Regression : 0.81\n",
      "LinearSVC : 0.77\n",
      "Decision Tree : 0.62\n",
      "Random Forest : 0.7\n",
      "GradientBoostingClassifier : 0.77\n",
      "Voting : 0.82\n"
     ]
    }
   ],
   "source": [
    "# 전체 결과 비교\n",
    "\n",
    "print(\"빈도수 상위 5000개의 단어만 사용했을 때 정확도 리스트\\n\")\n",
    "\n",
    "for x in range(len(classifier_list)):\n",
    "    print(classifier_list[x], \":\", classifier_answer_list[x].round(2))"
   ]
  },
  {
   "cell_type": "code",
   "execution_count": 45,
   "id": "28afbd52",
   "metadata": {
    "scrolled": true
   },
   "outputs": [
    {
     "name": "stdout",
     "output_type": "stream",
     "text": [
      "f1 score :               precision    recall  f1-score   support\n",
      "\n",
      "           0       0.90      0.75      0.82        12\n",
      "           1       0.80      0.77      0.79       105\n",
      "           2       0.71      0.85      0.77        20\n",
      "           3       0.92      0.94      0.93       813\n",
      "           4       0.82      0.88      0.85       474\n",
      "           5       0.33      0.20      0.25         5\n",
      "           6       0.93      0.93      0.93        14\n",
      "           7       0.67      0.67      0.67         3\n",
      "           8       0.72      0.68      0.70        38\n",
      "           9       0.81      0.84      0.82        25\n",
      "          10       0.93      0.90      0.92        30\n",
      "          11       0.67      0.70      0.68        83\n",
      "          12       0.60      0.46      0.52        13\n",
      "          13       0.68      0.62      0.65        37\n",
      "          14       0.12      0.50      0.20         2\n",
      "          15       0.67      0.44      0.53         9\n",
      "          16       0.74      0.74      0.74        99\n",
      "          17       0.57      0.67      0.62        12\n",
      "          18       0.72      0.65      0.68        20\n",
      "          19       0.73      0.68      0.71       133\n",
      "          20       0.61      0.49      0.54        70\n",
      "          21       0.66      0.78      0.71        27\n",
      "          22       0.50      0.14      0.22         7\n",
      "          23       0.57      0.67      0.62        12\n",
      "          24       0.75      0.63      0.69        19\n",
      "          25       0.96      0.74      0.84        31\n",
      "          26       0.88      0.88      0.88         8\n",
      "          27       0.67      0.50      0.57         4\n",
      "          28       0.44      0.40      0.42        10\n",
      "          29       0.50      0.75      0.60         4\n",
      "          30       0.62      0.42      0.50        12\n",
      "          31       0.75      0.69      0.72        13\n",
      "          32       1.00      0.80      0.89        10\n",
      "          33       0.71      1.00      0.83         5\n",
      "          34       1.00      0.43      0.60         7\n",
      "          35       1.00      0.50      0.67         6\n",
      "          36       0.45      0.45      0.45        11\n",
      "          37       0.67      1.00      0.80         2\n",
      "          38       0.50      0.33      0.40         3\n",
      "          39       0.25      0.20      0.22         5\n",
      "          40       0.80      0.40      0.53        10\n",
      "          41       0.67      0.50      0.57         8\n",
      "          42       0.75      1.00      0.86         3\n",
      "          43       0.71      0.83      0.77         6\n",
      "          44       1.00      0.80      0.89         5\n",
      "          45       1.00      1.00      1.00         1\n",
      "\n",
      "    accuracy                           0.82      2246\n",
      "   macro avg       0.71      0.66      0.66      2246\n",
      "weighted avg       0.82      0.82      0.81      2246\n",
      "\n"
     ]
    }
   ],
   "source": [
    "# f1 score 알아보기\n",
    "#from sklearn.metrics import f1_score\n",
    "\n",
    "predicted = voting_classifier.predict(tfidfv_test)\n",
    "# print(\"f1 score :\", f1_score(y_test, predicted, average='micro'))\n",
    "print(\"f1 score :\", classification_report(y_test, predicted, zero_division=0))"
   ]
  },
  {
   "cell_type": "markdown",
   "id": "b2cddded",
   "metadata": {},
   "source": [
    "## 3. 직접 단어 갯수를 설정해서 사용 (2000개)"
   ]
  },
  {
   "cell_type": "code",
   "execution_count": 46,
   "id": "1766b926",
   "metadata": {},
   "outputs": [],
   "source": [
    "(x_train, y_train), (x_test, y_test) = reuters.load_data(num_words=2000, \n",
    "                                                         test_split=0.2)"
   ]
  },
  {
   "cell_type": "code",
   "execution_count": 47,
   "id": "9fc05bd5",
   "metadata": {},
   "outputs": [
    {
     "name": "stdout",
     "output_type": "stream",
     "text": [
      "훈련용 뉴스의 최대 길이 :2376\n",
      "훈련용 뉴스의 평균 길이 :145.5398574927633\n"
     ]
    },
    {
     "data": {
      "image/png": "[encoded data removed]",
      "text/plain": [
       "<Figure size 432x288 with 1 Axes>"
      ]
     },
     "metadata": {
      "needs_background": "light"
     },
     "output_type": "display_data"
    }
   ],
   "source": [
    "# 데이터 분포 파악\n",
    "print('훈련용 뉴스의 최대 길이 :{}'.format(max(len(l) for l in x_train)))\n",
    "print('훈련용 뉴스의 평균 길이 :{}'.format(sum(map(len, x_train))/len(x_train)))\n",
    "\n",
    "plt.hist([len(s) for s in x_train], bins=50)\n",
    "plt.xlabel('length of samples')\n",
    "plt.ylabel('number of samples')\n",
    "plt.show()"
   ]
  },
  {
   "cell_type": "code",
   "execution_count": 49,
   "id": "aa7b13ca",
   "metadata": {},
   "outputs": [
    {
     "name": "stderr",
     "output_type": "stream",
     "text": [
      "/opt/conda/lib/python3.9/site-packages/seaborn/_decorators.py:36: FutureWarning: Pass the following variable as a keyword arg: x. From version 0.12, the only valid positional argument will be `data`, and passing other arguments without an explicit keyword will result in an error or misinterpretation.\n",
      "  warnings.warn(\n"
     ]
    },
    {
     "data": {
      "text/plain": [
       "<AxesSubplot:ylabel='count'>"
      ]
     },
     "execution_count": 49,
     "metadata": {},
     "output_type": "execute_result"
    },
    {
     "data": {
      "image/png": "[encoded data removed]",
      "text/plain": [
       "<Figure size 864x360 with 1 Axes>"
      ]
     },
     "metadata": {
      "needs_background": "light"
     },
     "output_type": "display_data"
    }
   ],
   "source": [
    "# 타겟데이터 파악\n",
    "fig, axe = plt.subplots(ncols=1)\n",
    "fig.set_size_inches(12, 5)\n",
    "sns.countplot(y_train)"
   ]
  },
  {
   "cell_type": "code",
   "execution_count": 50,
   "id": "537a604e",
   "metadata": {},
   "outputs": [
    {
     "name": "stdout",
     "output_type": "stream",
     "text": [
      "훈련 샘플의 수: 8982\n",
      "테스트 샘플의 수: 2246\n"
     ]
    }
   ],
   "source": [
    "print('훈련 샘플의 수: {}'.format(len(x_train)))\n",
    "print('테스트 샘플의 수: {}'.format(len(x_test)))"
   ]
  },
  {
   "cell_type": "code",
   "execution_count": 51,
   "id": "8baaadd8",
   "metadata": {},
   "outputs": [],
   "source": [
    "# 텍스트 데이터로 복원\n",
    "word_index = reuters.get_word_index(path=\"reuters_word_index.json\")\n",
    "\n",
    "# 인덱스 +3\n",
    "index_to_word = {index + 3 : word for word, index in word_index.items()}\n",
    "\n",
    "# index_to_word에서 숫자 0은 <pad>, 숫자 1은 <sos>, 숫자 2는 <unk> 로 설정\n",
    "for index, token in enumerate((\"<pad>\", \"<sos>\", \"<unk>\")):\n",
    "    index_to_word[index] = token"
   ]
  },
  {
   "cell_type": "code",
   "execution_count": 52,
   "id": "e8a2842d",
   "metadata": {},
   "outputs": [],
   "source": [
    "# 전체 학습데이터 복원\n",
    "decoded = []\n",
    "for i in range(len(x_train)):\n",
    "    t = ' '.join([index_to_word[index] for index in x_train[i]])\n",
    "    decoded.append(t)\n",
    "\n",
    "x_train = decoded"
   ]
  },
  {
   "cell_type": "code",
   "execution_count": 53,
   "id": "86b4f970",
   "metadata": {},
   "outputs": [],
   "source": [
    "# 전체 테스트데이터 복원\n",
    "decoded = []\n",
    "for i in range(len(x_test)):\n",
    "    t = ' '.join([index_to_word[index] for index in x_test[i]])\n",
    "    decoded.append(t)\n",
    "    \n",
    "x_test = decoded"
   ]
  },
  {
   "cell_type": "code",
   "execution_count": 60,
   "id": "0a015df6",
   "metadata": {},
   "outputs": [
    {
     "data": {
      "text/plain": [
       "['<sos> <unk> <unk> said as a result of its december acquisition of <unk> co it expects earnings per share in 1987 of 1 15 to 1 30 dlrs per share up from 70 cts in 1986 the company said pretax net should rise to nine to 10 mln dlrs from six mln dlrs in 1986 and <unk> operation revenues to 19 to 22 mln dlrs from 12 5 mln dlrs it said cash flow per share this year should be 2 50 to three dlrs reuter 3',\n",
       " '<sos> <unk> de <unk> <unk> lt <unk> <unk> and lt <unk> overseas corp of chicago have each taken 50 pct <unk> in <unk> company <unk> <unk> factors <unk> de <unk> said in a statement it gave no financial details of the transaction <unk> <unk> <unk> turnover in 1986 was 17 5 billion belgian francs reuter 3']"
      ]
     },
     "execution_count": 60,
     "metadata": {},
     "output_type": "execute_result"
    }
   ],
   "source": [
    "x_train[:2]"
   ]
  },
  {
   "cell_type": "code",
   "execution_count": 59,
   "id": "90df05f3",
   "metadata": {},
   "outputs": [
    {
     "data": {
      "text/plain": [
       "['<sos> the great <unk> and pacific <unk> co said its three year <unk> mln dlr capital program will be be substantially increased to <unk> growth and expansion plans for <unk> inc and <unk> inc over the next two years a and p said the acquisition of <unk> in august 1986 and <unk> in december helped us achieve better than expected results in the fourth quarter ended february 28 its net income from continuing operations <unk> 52 6 pct to 20 7 mln dlrs or 55 cts a share in the latest quarter as sales increased 48 3 pct to 1 58 billion dlrs a and p gave no details on the <unk> capital program but it did say it completed the first year of the program during 1986 a and p is 52 4 pct owned by lt <unk> <unk> of west germany reuter 3',\n",
       " \"<sos> <unk> sugar production in the 1987 88 crop year ending august has been set at 1 6 mln tonnes up from a provisional 1 3 mln tonnes this year sugar regulatory administration <unk> chairman <unk> <unk> said <unk> told reuters a survey during the current <unk> season which <unk> next month showed the 1986 87 estimate would almost certainly be met he said at least 1 2 mln tonnes of the 1987 88 crop would be <unk> for domestic consumption <unk> said about 130 000 tonnes would be set <unk> for the u s sugar quota 150 000 tonnes for strategic reserves and 50 000 tonnes would be sold on the world market he said if the government approved a long <unk> <unk> <unk> to <unk> <unk> the project would take up another 150 000 tonnes slightly raising the target the government for its own <unk> has been <unk> approval of the project but we expect it to come through by july <unk> said <unk> could make up five pct of gasoline cutting the oil import bill by about 300 mln pesos <unk> said three major <unk> <unk> were ready to start manufacturing <unk> if the project was approved the <unk> project would result in employment for about 100 000 people sharply reducing those <unk> out of work by depressed world sugar prices and a <unk> domestic industry production quotas set for the first time in 1987 88 had been <unk> to president <unk> <unk> i think the president would rather <unk> <unk> the new congress <unk> after the may <unk> he said but there is really no need for such quotas we are right now producing just slightly over our own consumption level the producers have <unk> <unk> such high prices <unk> said adding sugar was currently selling <unk> for <unk> pesos per <unk> up from <unk> pesos last august <unk> said prices were <unk> up because of speculation following the <unk> bid to control production we are no longer concerned so much with the world market he said adding producers in the <unk> region had <unk> from their <unk> and <unk> into corn and <unk> <unk> and <unk> production he said <unk> into products other than <unk> was also possible within the sugar industry the <unk> long ago <unk> their <unk> <unk> said they have 300 sugar mills compared with our 41 but they <unk> many of them and <unk> production we want to call this a <unk> <unk> instead of the sugar industry he said <unk> could be fed to <unk> and <unk> used for <unk> <unk> or used in <unk> <unk> when you cut <unk> you don't even have to produce sugar he said <unk> said the <unk> was <unk> for a <unk> of the international sugar agreement which <unk> in 1984 as a major sugar producer we are <unk> them to <unk> a new agreement which would <unk> world prices <unk> said if there is no agreement world prices will <unk> be depressed particularly because the european community is <unk> its producers and <unk> sugar on the markets he said current world prices holding steady at about 7 60 cents per pound were <unk> for the <unk> where production costs <unk> from 12 to 14 cents a pound if the price holds steady for a while at 7 60 cents i expect the level to rise to about 11 cents a pound by the end of this year he said <unk> said economists forecast a <unk> sugar market by 1990 with world consumption <unk> production he said sugar markets were holding up despite <unk> from <unk> <unk> and high <unk> corn <unk> but we are not <unk> with the reagan administration he said since <unk> we have been regular <unk> of sugar to the u s in 1982 when they <unk> the quota system they cut <unk> in half without any <unk> <unk> was <unk> <unk> <unk> moves to cut domestic support prices to 12 cents a pound from 18 cents the u s agriculture department last december <unk> its 12 month 1987 sugar import quota from the <unk> to <unk> <unk> short tons from <unk> <unk> short tons in 1986 <unk> said despite next year's increased production target some <unk> mills were expected to <unk> down at least four of the 41 mills were not working during the 1986 87 season he said we expect two or three more to follow suit during the next season reuter 3\"]"
      ]
     },
     "execution_count": 59,
     "metadata": {},
     "output_type": "execute_result"
    }
   ],
   "source": [
    "x_test[:2]"
   ]
  },
  {
   "cell_type": "code",
   "execution_count": 54,
   "id": "f3b7f47a",
   "metadata": {},
   "outputs": [
    {
     "name": "stdout",
     "output_type": "stream",
     "text": [
      "(8982, 1944)\n"
     ]
    }
   ],
   "source": [
    "# DTM 확인\n",
    "dtmvector = CountVectorizer()\n",
    "x_train_dtm = dtmvector.fit_transform(x_train)\n",
    "print(x_train_dtm.shape)\n",
    "\n",
    "# 테스트 데이터\n",
    "x_test_dtm = dtmvector.transform(x_test)  # 테스트 데이터를 DTM 으로 변환"
   ]
  },
  {
   "cell_type": "code",
   "execution_count": 55,
   "id": "6db0ccb9",
   "metadata": {},
   "outputs": [
    {
     "name": "stdout",
     "output_type": "stream",
     "text": [
      "(8982, 1944)\n"
     ]
    }
   ],
   "source": [
    "# TF-IDF Matrix확인\n",
    "tfidf_transformer = TfidfTransformer()\n",
    "tfidfv = tfidf_transformer.fit_transform(x_train_dtm)\n",
    "print(tfidfv.shape)\n",
    "\n",
    "# 테스트데이터\n",
    "tfidfv_test = tfidf_transformer.transform(x_test_dtm) #DTM을 TF-IDF 행렬로 변환"
   ]
  },
  {
   "cell_type": "markdown",
   "id": "14962b96",
   "metadata": {},
   "source": [
    "## 모델별 정확도 예측"
   ]
  },
  {
   "cell_type": "code",
   "execution_count": 61,
   "id": "6f6576f2",
   "metadata": {},
   "outputs": [],
   "source": [
    "# 결과값 비교를 위한 리스트 선언\n",
    "classifier_list = [\"MultinomialNB\", \"ComplementNB\", \"Logistic Regression\", \"LinearSVC\", \"Decision Tree\", \"Random Forest\", \"GradientBoostingClassifier\", \"Voting\"]\n",
    "classifier_answer_list = []"
   ]
  },
  {
   "cell_type": "markdown",
   "id": "8a2d925c",
   "metadata": {},
   "source": [
    "### 나이브 베이즈 분류기"
   ]
  },
  {
   "cell_type": "code",
   "execution_count": 62,
   "id": "6a50df3c",
   "metadata": {},
   "outputs": [
    {
     "name": "stdout",
     "output_type": "stream",
     "text": [
      "정확도 : 0.6914514692787177\n"
     ]
    }
   ],
   "source": [
    "mod = MultinomialNB()\n",
    "mod.fit(tfidfv, y_train)\n",
    "\n",
    "predicted = mod.predict(tfidfv_test)  # 테스트 데이터에 대한 예측\n",
    "print(\"정확도 :\", accuracy_score(y_test, predicted))  # 예측값과 실제값 비교\n",
    "\n",
    "classifier_answer_list.append(accuracy_score(y_test, predicted))"
   ]
  },
  {
   "cell_type": "markdown",
   "id": "cc4039bd",
   "metadata": {},
   "source": [
    "### Complement Naive Bayes Classifier(CNB)"
   ]
  },
  {
   "cell_type": "code",
   "execution_count": 63,
   "id": "381ebf49",
   "metadata": {},
   "outputs": [
    {
     "name": "stdout",
     "output_type": "stream",
     "text": [
      "정확도 : 0.7569011576135352\n"
     ]
    }
   ],
   "source": [
    "cb = ComplementNB()\n",
    "cb.fit(tfidfv, y_train)\n",
    "\n",
    "predicted = cb.predict(tfidfv_test)\n",
    "print(\"정확도 :\", accuracy_score(y_test, predicted))\n",
    "\n",
    "classifier_answer_list.append(accuracy_score(y_test, predicted))"
   ]
  },
  {
   "cell_type": "markdown",
   "id": "df309067",
   "metadata": {},
   "source": [
    "### 로지스틱 회귀"
   ]
  },
  {
   "cell_type": "code",
   "execution_count": 64,
   "id": "442046b0",
   "metadata": {},
   "outputs": [
    {
     "name": "stdout",
     "output_type": "stream",
     "text": [
      "정확도 : 0.7813891362422084\n"
     ]
    },
    {
     "name": "stderr",
     "output_type": "stream",
     "text": [
      "/opt/conda/lib/python3.9/site-packages/sklearn/linear_model/_logistic.py:814: ConvergenceWarning: lbfgs failed to converge (status=1):\n",
      "STOP: TOTAL NO. of ITERATIONS REACHED LIMIT.\n",
      "\n",
      "Increase the number of iterations (max_iter) or scale the data as shown in:\n",
      "    https://scikit-learn.org/stable/modules/preprocessing.html\n",
      "Please also refer to the documentation for alternative solver options:\n",
      "    https://scikit-learn.org/stable/modules/linear_model.html#logistic-regression\n",
      "  n_iter_i = _check_optimize_result(\n"
     ]
    }
   ],
   "source": [
    "lr = LogisticRegression(C=10000, penalty='l2')\n",
    "lr.fit(tfidfv, y_train)\n",
    "\n",
    "predicted = lr.predict(tfidfv_test)\n",
    "print(\"정확도 :\", accuracy_score(y_test, predicted))\n",
    "\n",
    "classifier_answer_list.append(accuracy_score(y_test, predicted))"
   ]
  },
  {
   "cell_type": "markdown",
   "id": "0b0ae9fc",
   "metadata": {},
   "source": [
    "### 선형 서포트 벡터 머신"
   ]
  },
  {
   "cell_type": "code",
   "execution_count": 65,
   "id": "6dfe55d6",
   "metadata": {},
   "outputs": [
    {
     "name": "stdout",
     "output_type": "stream",
     "text": [
      "정확도 : 0.732413178984862\n"
     ]
    },
    {
     "name": "stderr",
     "output_type": "stream",
     "text": [
      "/opt/conda/lib/python3.9/site-packages/sklearn/svm/_base.py:1199: ConvergenceWarning: Liblinear failed to converge, increase the number of iterations.\n",
      "  warnings.warn(\n"
     ]
    }
   ],
   "source": [
    "lsvc = LinearSVC(C=1000, penalty='l1', max_iter=500, dual=False)\n",
    "lsvc.fit(tfidfv, y_train)\n",
    "\n",
    "predicted = lsvc.predict(tfidfv_test)\n",
    "print(\"정확도 :\", accuracy_score(y_test, predicted))\n",
    "\n",
    "classifier_answer_list.append(accuracy_score(y_test, predicted))"
   ]
  },
  {
   "cell_type": "markdown",
   "id": "8c174943",
   "metadata": {},
   "source": [
    "### 결정 트리"
   ]
  },
  {
   "cell_type": "code",
   "execution_count": 66,
   "id": "63551c4c",
   "metadata": {},
   "outputs": [
    {
     "name": "stdout",
     "output_type": "stream",
     "text": [
      "정확도 : 0.6255565449688335\n"
     ]
    }
   ],
   "source": [
    "tree = DecisionTreeClassifier(max_depth=10, random_state=0)\n",
    "tree.fit(tfidfv, y_train)\n",
    "\n",
    "predicted = tree.predict(tfidfv_test)\n",
    "print(\"정확도 :\", accuracy_score(y_test, predicted))\n",
    "\n",
    "classifier_answer_list.append(accuracy_score(y_test, predicted))"
   ]
  },
  {
   "cell_type": "markdown",
   "id": "9b2cfd70",
   "metadata": {},
   "source": [
    "### 랜덤 포레스트"
   ]
  },
  {
   "cell_type": "code",
   "execution_count": 67,
   "id": "9020cb72",
   "metadata": {},
   "outputs": [
    {
     "name": "stdout",
     "output_type": "stream",
     "text": [
      "정확도 : 0.6954585930543188\n"
     ]
    }
   ],
   "source": [
    "forest = RandomForestClassifier(n_estimators=5, random_state=0)\n",
    "forest.fit(tfidfv, y_train)\n",
    "\n",
    "predicted = forest.predict(tfidfv_test)\n",
    "print(\"정확도 :\", accuracy_score(y_test, predicted))\n",
    "\n",
    "classifier_answer_list.append(accuracy_score(y_test, predicted))"
   ]
  },
  {
   "cell_type": "markdown",
   "id": "2799a436",
   "metadata": {},
   "source": [
    "### 그래디언트 부스팅 트리"
   ]
  },
  {
   "cell_type": "code",
   "execution_count": 68,
   "id": "c8b88b06",
   "metadata": {},
   "outputs": [
    {
     "name": "stdout",
     "output_type": "stream",
     "text": [
      "정확도 : 0.757346393588602\n"
     ]
    }
   ],
   "source": [
    "grbt = GradientBoostingClassifier(random_state=0)\n",
    "grbt.fit(tfidfv, y_train)\n",
    "\n",
    "predicted = grbt.predict(tfidfv_test)\n",
    "print(\"정확도 :\", accuracy_score(y_test, predicted))\n",
    "\n",
    "classifier_answer_list.append(accuracy_score(y_test, predicted))"
   ]
  },
  {
   "cell_type": "markdown",
   "id": "8a9281c1",
   "metadata": {},
   "source": [
    "### 보팅(로지스틱 회귀, CNB, 그래디언트 부스팅 트리 세 가지 사용)"
   ]
  },
  {
   "cell_type": "code",
   "execution_count": 69,
   "id": "716284b9",
   "metadata": {},
   "outputs": [
    {
     "name": "stderr",
     "output_type": "stream",
     "text": [
      "/opt/conda/lib/python3.9/site-packages/sklearn/linear_model/_logistic.py:814: ConvergenceWarning: lbfgs failed to converge (status=1):\n",
      "STOP: TOTAL NO. of ITERATIONS REACHED LIMIT.\n",
      "\n",
      "Increase the number of iterations (max_iter) or scale the data as shown in:\n",
      "    https://scikit-learn.org/stable/modules/preprocessing.html\n",
      "Please also refer to the documentation for alternative solver options:\n",
      "    https://scikit-learn.org/stable/modules/linear_model.html#logistic-regression\n",
      "  n_iter_i = _check_optimize_result(\n"
     ]
    },
    {
     "name": "stdout",
     "output_type": "stream",
     "text": [
      "정확도 : 0.7978628673196795\n"
     ]
    }
   ],
   "source": [
    "voting_classifier = VotingClassifier(estimators=[\n",
    "    ('lr', LogisticRegression(C=10000, penalty='l2')),\n",
    "    ('cb', ComplementNB()),\n",
    "    ('grbt', GradientBoostingClassifier(random_state=0))\n",
    "], voting='soft', n_jobs=-1)\n",
    "voting_classifier.fit(tfidfv, y_train)\n",
    "\n",
    "predicted = voting_classifier.predict(tfidfv_test)\n",
    "print(\"정확도 :\", accuracy_score(y_test, predicted))\n",
    "\n",
    "classifier_answer_list.append(accuracy_score(y_test, predicted))"
   ]
  },
  {
   "cell_type": "markdown",
   "id": "6c9d95de",
   "metadata": {},
   "source": [
    "### 전체 결과 & f1 score"
   ]
  },
  {
   "cell_type": "code",
   "execution_count": 70,
   "id": "d2b18a5a",
   "metadata": {},
   "outputs": [
    {
     "name": "stdout",
     "output_type": "stream",
     "text": [
      "빈도수 상위 2000개의 단어만 사용했을 때 정확도 리스트\n",
      "\n",
      "MultinomialNB : 0.69\n",
      "ComplementNB : 0.76\n",
      "Logistic Regression : 0.78\n",
      "LinearSVC : 0.73\n",
      "Decision Tree : 0.63\n",
      "Random Forest : 0.7\n",
      "GradientBoostingClassifier : 0.76\n",
      "Voting : 0.8\n"
     ]
    }
   ],
   "source": [
    "# 전체 결과 비교\n",
    "\n",
    "print(\"빈도수 상위 2000개의 단어만 사용했을 때 정확도 리스트\\n\")\n",
    "\n",
    "for x in range(len(classifier_list)):\n",
    "    print(classifier_list[x], \":\", classifier_answer_list[x].round(2))"
   ]
  },
  {
   "cell_type": "code",
   "execution_count": 71,
   "id": "27b66b63",
   "metadata": {
    "scrolled": true
   },
   "outputs": [
    {
     "name": "stdout",
     "output_type": "stream",
     "text": [
      "f1 score :               precision    recall  f1-score   support\n",
      "\n",
      "           0       0.89      0.67      0.76        12\n",
      "           1       0.77      0.73      0.75       105\n",
      "           2       0.68      0.75      0.71        20\n",
      "           3       0.92      0.93      0.93       813\n",
      "           4       0.81      0.87      0.84       474\n",
      "           5       0.50      0.20      0.29         5\n",
      "           6       0.81      0.93      0.87        14\n",
      "           7       0.33      0.33      0.33         3\n",
      "           8       0.76      0.74      0.75        38\n",
      "           9       0.77      0.80      0.78        25\n",
      "          10       0.86      0.83      0.85        30\n",
      "          11       0.63      0.67      0.65        83\n",
      "          12       0.56      0.38      0.45        13\n",
      "          13       0.58      0.68      0.63        37\n",
      "          14       0.40      1.00      0.57         2\n",
      "          15       0.50      0.22      0.31         9\n",
      "          16       0.71      0.74      0.72        99\n",
      "          17       0.67      0.50      0.57        12\n",
      "          18       0.67      0.60      0.63        20\n",
      "          19       0.72      0.69      0.71       133\n",
      "          20       0.59      0.47      0.52        70\n",
      "          21       0.67      0.74      0.70        27\n",
      "          22       0.00      0.00      0.00         7\n",
      "          23       0.42      0.42      0.42        12\n",
      "          24       0.57      0.42      0.48        19\n",
      "          25       0.92      0.71      0.80        31\n",
      "          26       0.70      0.88      0.78         8\n",
      "          27       0.33      0.25      0.29         4\n",
      "          28       0.43      0.30      0.35        10\n",
      "          29       0.40      0.50      0.44         4\n",
      "          30       0.46      0.50      0.48        12\n",
      "          31       0.67      0.62      0.64        13\n",
      "          32       1.00      0.80      0.89        10\n",
      "          33       1.00      0.80      0.89         5\n",
      "          34       1.00      0.43      0.60         7\n",
      "          35       1.00      0.17      0.29         6\n",
      "          36       0.43      0.55      0.48        11\n",
      "          37       0.67      1.00      0.80         2\n",
      "          38       0.00      0.00      0.00         3\n",
      "          39       0.20      0.20      0.20         5\n",
      "          40       0.67      0.20      0.31        10\n",
      "          41       0.57      0.50      0.53         8\n",
      "          42       0.67      0.67      0.67         3\n",
      "          43       0.46      1.00      0.63         6\n",
      "          44       1.00      0.80      0.89         5\n",
      "          45       1.00      1.00      1.00         1\n",
      "\n",
      "    accuracy                           0.80      2246\n",
      "   macro avg       0.64      0.59      0.59      2246\n",
      "weighted avg       0.79      0.80      0.79      2246\n",
      "\n"
     ]
    }
   ],
   "source": [
    "# f1 score 알아보기\n",
    "#from sklearn.metrics import f1_score\n",
    "\n",
    "predicted = voting_classifier.predict(tfidfv_test)\n",
    "# print(\"f1 score :\", f1_score(y_test, predicted, average='micro'))\n",
    "print(\"f1 score :\", classification_report(y_test, predicted, zero_division=0))"
   ]
  },
  {
   "cell_type": "markdown",
   "id": "f5d32e62",
   "metadata": {},
   "source": [
    "## 4. 딥러닝 모델과 비교"
   ]
  },
  {
   "cell_type": "code",
   "execution_count": 72,
   "id": "3b430f8f",
   "metadata": {},
   "outputs": [],
   "source": [
    "from tensorflow import keras\n",
    "import numpy as np"
   ]
  },
  {
   "cell_type": "code",
   "execution_count": 87,
   "id": "e82b13aa",
   "metadata": {},
   "outputs": [],
   "source": [
    "(train_data, train_labels), (test_data, test_labels) = reuters.load_data(num_words=10000, \n",
    "                                                                         test_split=0.2)"
   ]
  },
  {
   "cell_type": "code",
   "execution_count": 88,
   "id": "ac1a1fb9",
   "metadata": {},
   "outputs": [
    {
     "name": "stdout",
     "output_type": "stream",
     "text": [
      "(8982,) (8982,)\n"
     ]
    }
   ],
   "source": [
    "print(train_data.shape, train_labels.shape)"
   ]
  },
  {
   "cell_type": "code",
   "execution_count": 89,
   "id": "319e4cd1",
   "metadata": {},
   "outputs": [
    {
     "name": "stdout",
     "output_type": "stream",
     "text": [
      "(2246,) (2246,)\n"
     ]
    }
   ],
   "source": [
    "print(test_data.shape, test_labels.shape)"
   ]
  },
  {
   "cell_type": "code",
   "execution_count": 90,
   "id": "fcddd298",
   "metadata": {},
   "outputs": [],
   "source": [
    "from keras.utils.np_utils import to_categorical\n",
    "\n",
    "def vectorize_sequences(sequences, dimension=10000):\n",
    "    results = np.zeros((len(sequences), dimension))\n",
    "    for i, sequence in enumerate(sequences):\n",
    "        results[i, sequence] = 1.\n",
    "    return results\n",
    "\n",
    "x_train = vectorize_sequences(train_data)\n",
    "x_test = vectorize_sequences(test_data)"
   ]
  },
  {
   "cell_type": "code",
   "execution_count": 91,
   "id": "64d6fae0",
   "metadata": {},
   "outputs": [],
   "source": [
    "# 원핫인코딩을 해줍시다\n",
    "from keras.utils.np_utils import to_categorical\n",
    "\n",
    "one_hot_train_labels = to_categorical(train_labels)\n",
    "one_hot_test_labels = to_categorical(test_labels)"
   ]
  },
  {
   "cell_type": "code",
   "execution_count": 92,
   "id": "d4756121",
   "metadata": {},
   "outputs": [
    {
     "name": "stdout",
     "output_type": "stream",
     "text": [
      "Model: \"sequential_2\"\n",
      "_________________________________________________________________\n",
      "Layer (type)                 Output Shape              Param #   \n",
      "=================================================================\n",
      "dense_4 (Dense)              (None, 64)                640064    \n",
      "_________________________________________________________________\n",
      "dense_5 (Dense)              (None, 64)                4160      \n",
      "_________________________________________________________________\n",
      "dense_6 (Dense)              (None, 46)                2990      \n",
      "=================================================================\n",
      "Total params: 647,214\n",
      "Trainable params: 647,214\n",
      "Non-trainable params: 0\n",
      "_________________________________________________________________\n"
     ]
    }
   ],
   "source": [
    "model = keras.Sequential()\n",
    "\n",
    "model.add(keras.layers.Dense(64, activation='relu', input_shape=(10000,)))\n",
    "model.add(keras.layers.Dense(64, activation='relu')) \n",
    "model.add(keras.layers.Dense(46, activation='softmax'))  # 클래스가 46개\n",
    "\n",
    "model.summary()"
   ]
  },
  {
   "cell_type": "code",
   "execution_count": 93,
   "id": "5ac90a5e",
   "metadata": {},
   "outputs": [],
   "source": [
    "# 모델 컴파일 설정\n",
    "model.compile(optimizer='adam', loss='categorical_crossentropy', metrics=['accuracy'])"
   ]
  },
  {
   "cell_type": "code",
   "execution_count": 94,
   "id": "fa474706",
   "metadata": {},
   "outputs": [],
   "source": [
    "# 데이터 나누기\n",
    "x_val = x_train[:1000]\n",
    "partial_x_train = x_train[1000:]\n",
    "\n",
    "y_val = one_hot_train_labels[:1000]\n",
    "partial_y_train = one_hot_train_labels[1000:]"
   ]
  },
  {
   "cell_type": "code",
   "execution_count": 95,
   "id": "15f1c38d",
   "metadata": {},
   "outputs": [
    {
     "name": "stdout",
     "output_type": "stream",
     "text": [
      "Epoch 1/20\n",
      "16/16 [==============================] - 2s 66ms/step - loss: 3.2287 - accuracy: 0.3847 - val_loss: 2.4565 - val_accuracy: 0.5350\n",
      "Epoch 2/20\n",
      "16/16 [==============================] - 1s 54ms/step - loss: 1.9332 - accuracy: 0.6134 - val_loss: 1.6107 - val_accuracy: 0.6640\n",
      "Epoch 3/20\n",
      "16/16 [==============================] - 1s 53ms/step - loss: 1.3417 - accuracy: 0.7169 - val_loss: 1.2919 - val_accuracy: 0.7010\n",
      "Epoch 4/20\n",
      "16/16 [==============================] - 1s 54ms/step - loss: 1.0424 - accuracy: 0.7702 - val_loss: 1.1346 - val_accuracy: 0.7490\n",
      "Epoch 5/20\n",
      "16/16 [==============================] - 1s 55ms/step - loss: 0.8316 - accuracy: 0.8206 - val_loss: 1.0373 - val_accuracy: 0.7780\n",
      "Epoch 6/20\n",
      "16/16 [==============================] - 1s 53ms/step - loss: 0.6591 - accuracy: 0.8652 - val_loss: 0.9686 - val_accuracy: 0.8040\n",
      "Epoch 7/20\n",
      "16/16 [==============================] - 1s 54ms/step - loss: 0.5157 - accuracy: 0.8951 - val_loss: 0.9155 - val_accuracy: 0.8120\n",
      "Epoch 8/20\n",
      "16/16 [==============================] - 1s 52ms/step - loss: 0.3978 - accuracy: 0.9184 - val_loss: 0.8891 - val_accuracy: 0.8160\n",
      "Epoch 9/20\n",
      "16/16 [==============================] - 1s 54ms/step - loss: 0.3105 - accuracy: 0.9374 - val_loss: 0.8814 - val_accuracy: 0.8250\n",
      "Epoch 10/20\n",
      "16/16 [==============================] - 1s 54ms/step - loss: 0.2484 - accuracy: 0.9439 - val_loss: 0.8780 - val_accuracy: 0.8190\n",
      "Epoch 11/20\n",
      "16/16 [==============================] - 1s 54ms/step - loss: 0.2032 - accuracy: 0.9515 - val_loss: 0.8862 - val_accuracy: 0.8280\n",
      "Epoch 12/20\n",
      "16/16 [==============================] - 1s 52ms/step - loss: 0.1700 - accuracy: 0.9541 - val_loss: 0.9057 - val_accuracy: 0.8170\n",
      "Epoch 13/20\n",
      "16/16 [==============================] - 1s 53ms/step - loss: 0.1516 - accuracy: 0.9570 - val_loss: 0.9110 - val_accuracy: 0.8220\n",
      "Epoch 14/20\n",
      "16/16 [==============================] - 1s 53ms/step - loss: 0.1340 - accuracy: 0.9583 - val_loss: 0.9326 - val_accuracy: 0.8240\n",
      "Epoch 15/20\n",
      "16/16 [==============================] - 1s 53ms/step - loss: 0.1234 - accuracy: 0.9598 - val_loss: 0.9670 - val_accuracy: 0.8100\n",
      "Epoch 16/20\n",
      "16/16 [==============================] - 1s 53ms/step - loss: 0.1200 - accuracy: 0.9583 - val_loss: 0.9614 - val_accuracy: 0.8130\n",
      "Epoch 17/20\n",
      "16/16 [==============================] - 1s 54ms/step - loss: 0.1099 - accuracy: 0.9593 - val_loss: 0.9868 - val_accuracy: 0.8200\n",
      "Epoch 18/20\n",
      "16/16 [==============================] - 1s 53ms/step - loss: 0.1063 - accuracy: 0.9627 - val_loss: 0.9860 - val_accuracy: 0.8120\n",
      "Epoch 19/20\n",
      "16/16 [==============================] - 1s 53ms/step - loss: 0.1003 - accuracy: 0.9610 - val_loss: 1.0039 - val_accuracy: 0.8180\n",
      "Epoch 20/20\n",
      "16/16 [==============================] - 1s 54ms/step - loss: 0.0993 - accuracy: 0.9609 - val_loss: 1.0089 - val_accuracy: 0.8110\n"
     ]
    }
   ],
   "source": [
    "history = model.fit(partial_x_train, \n",
    "                    partial_y_train, \n",
    "                    epochs=20, \n",
    "                    batch_size=512, \n",
    "                    validation_data=(x_val, y_val))"
   ]
  },
  {
   "cell_type": "code",
   "execution_count": 96,
   "id": "4e4b4b33",
   "metadata": {},
   "outputs": [
    {
     "name": "stdout",
     "output_type": "stream",
     "text": [
      "71/71 [==============================] - 0s 3ms/step - loss: 1.1233 - accuracy: 0.7912\n"
     ]
    },
    {
     "data": {
      "text/plain": [
       "[1.1232805252075195, 0.7911843061447144]"
      ]
     },
     "execution_count": 96,
     "metadata": {},
     "output_type": "execute_result"
    }
   ],
   "source": [
    "# 모델 평가\n",
    "model.evaluate(x_test, one_hot_test_labels)"
   ]
  },
  {
   "cell_type": "code",
   "execution_count": 97,
   "id": "be4e1581",
   "metadata": {},
   "outputs": [
    {
     "data": {
      "image/png": "[encoded data removed]",
      "text/plain": [
       "<Figure size 432x288 with 1 Axes>"
      ]
     },
     "metadata": {
      "needs_background": "light"
     },
     "output_type": "display_data"
    }
   ],
   "source": [
    "# 시각화\n",
    "import matplotlib.pyplot as plt\n",
    "\n",
    "loss = history.history['loss']\n",
    "val_loss = history.history['val_loss']\n",
    "\n",
    "epochs = range(1, len(loss) + 1)\n",
    "\n",
    "plt.plot(epochs, loss, 'bo', label='Training loss')\n",
    "plt.plot(epochs, val_loss, 'b', label='Validation loss')\n",
    "plt.title('Training and validation loss')\n",
    "plt.xlabel('Epochs')\n",
    "plt.ylabel('Loss')\n",
    "plt.legend()\n",
    "\n",
    "plt.show()"
   ]
  },
  {
   "cell_type": "markdown",
   "id": "ca7fd920",
   "metadata": {},
   "source": [
    "# 회고"
   ]
  },
  {
   "cell_type": "markdown",
   "id": "43beb56b",
   "metadata": {},
   "source": [
    "* accuracy 비교\n",
    "\n",
    "|   | 나이브 베이즈 분류기 | CNB | 로지스틱 회귀 | 선형 서포트 벡터 머신 | 결정 트리 | 랜덤 포레스트 | 그래디언트 부스팅 트리 | 보팅 |\n",
    "|---|---|---|---|---|---|---|---|---|\n",
    "| None | 0.6 | 0.76 | 0.81 | 0.78 | 0.62 | 0.65 | 0.77 | 0.82 |\n",
    "| 5000 | 0.67 | 0.77 | 0.81 | 0.77 | 0.62 | 0.7 | 0.77 | 0.82 |\n",
    "| 2000 | 0.69 | 0.76 | 0.78 | 0.73 | 0.63 | 0.7 | 0.76 | 0.8 |"
   ]
  },
  {
   "cell_type": "markdown",
   "id": "eadb271b",
   "metadata": {},
   "source": [
    "- 8개의 머신러닝 기법 중 가장 결과가 좋은 것은 보팅이었다. 하지만 시간이 꽤 오래 걸렸다.\n",
    "- 시간을 절약하고 싶다면 로지스틱 회귀를 사용해도 무관할 것이다.\n",
    "- num_words 변경에 따른 결과를 보면 크게 차이는 없지만, 5000 이상으로 설정하였을 때 결과가 향상될 것으로 예상한다.\n",
    "- 나이브 베이즈 분류기는 feature 간의 독립성이 중요하다고 한다. 그렇지만 num_words 가 감소할수록 acuuracy가 증가하는 이유는 모르겠다. 가지고 있는 단어의 개수가 줄어들수록 각 단어들의 연관성이 감소하는 것이 아닌지 추측해 본다.\n",
    "- 딥러닝 결과 : loss 1.12 accuracy 0.79\n",
    "- 딥러닝 모델의 결과는 머신러닝 결과보다 좋을 것으로 예상했지만 오히려 좋지 않았다. 데이터셋에 전처리 작업을 추가하면 성능이 향상 될것이다."
   ]
  },
  {
   "cell_type": "markdown",
   "id": "6d97f695",
   "metadata": {},
   "source": [
    "# 참고 사이트"
   ]
  },
  {
   "cell_type": "markdown",
   "id": "376842df",
   "metadata": {},
   "source": [
    "[1.참고블로그](https://piaojian.tistory.com/36?category=857927)  \n",
    "[2.참고깃허브](https://github.com/nevermet/AIFFEL/blob/master/G4_NewsCategoryClassification.ipynb)"
   ]
  }
 ],
 "metadata": {
  "kernelspec": {
   "display_name": "Python 3 (ipykernel)",
   "language": "python",
   "name": "python3"
  },
  "language_info": {
   "codemirror_mode": {
    "name": "ipython",
    "version": 3
   },
   "file_extension": ".py",
   "mimetype": "text/x-python",
   "name": "python",
   "nbconvert_exporter": "python",
   "pygments_lexer": "ipython3",
   "version": "3.9.7"
  }
 },
 "nbformat": 4,
 "nbformat_minor": 5
}
