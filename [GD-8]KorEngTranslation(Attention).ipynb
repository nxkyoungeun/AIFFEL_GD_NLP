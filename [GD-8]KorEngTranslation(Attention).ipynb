{
 "cells": [
  {
   "cell_type": "markdown",
   "id": "cf5dffa3",
   "metadata": {},
   "source": [
    "# [GD-8]KorEngTranslation(Attention)"
   ]
  },
  {
   "cell_type": "code",
   "execution_count": 1,
   "id": "88ed0433",
   "metadata": {},
   "outputs": [
    {
     "name": "stdout",
     "output_type": "stream",
     "text": [
      "2.6.0\n"
     ]
    }
   ],
   "source": [
    "# 사용할 라이브러리 import\n",
    "import tensorflow as tf\n",
    "import numpy as np\n",
    "\n",
    "from sklearn.model_selection import train_test_split\n",
    "\n",
    "import matplotlib.ticker as ticker\n",
    "import matplotlib.pyplot as plt\n",
    "\n",
    "import time\n",
    "import re\n",
    "import os\n",
    "import io\n",
    "import random\n",
    "\n",
    "print(tf.__version__)"
   ]
  },
  {
   "cell_type": "code",
   "execution_count": 2,
   "id": "f0593881",
   "metadata": {},
   "outputs": [
    {
     "name": "stdout",
     "output_type": "stream",
     "text": [
      "완료!\n"
     ]
    }
   ],
   "source": [
    "# 한국어 폰트 지원\n",
    "\n",
    "import matplotlib as mpl\n",
    " \n",
    "%config InlineBackend.figure_format = 'retina'\n",
    " \n",
    "import matplotlib.font_manager as fm\n",
    "fontpath = '/usr/share/fonts/truetype/nanum/NanumBarunGothic.ttf'\n",
    "font = fm.FontProperties(fname=fontpath, size=9)\n",
    "plt.rc('font', family='NanumBarunGothic') \n",
    "mpl.font_manager.findfont(font)\n",
    "\n",
    "print(\"완료!\")"
   ]
  },
  {
   "cell_type": "markdown",
   "id": "a778eafa",
   "metadata": {},
   "source": [
    "## 1. 데이터 다운로드"
   ]
  },
  {
   "cell_type": "code",
   "execution_count": 3,
   "id": "207e347e",
   "metadata": {},
   "outputs": [],
   "source": [
    "path_to_dir = os.getenv('HOME') + '/aiffel/s2s_translation'\n",
    "path_to_file_ko = path_to_dir + '/korean-english-park.train.ko'\n",
    "path_to_file_en = path_to_dir + '/korean-english-park.train.en'"
   ]
  },
  {
   "cell_type": "code",
   "execution_count": 4,
   "id": "189618ee",
   "metadata": {},
   "outputs": [
    {
     "name": "stdout",
     "output_type": "stream",
     "text": [
      "Data Size : 94123\n",
      "Example :\n",
      ">> 개인용 컴퓨터 사용의 상당 부분은 \"이것보다 뛰어날 수 있느냐?\"\n",
      ">> 북한의 핵무기 계획을 포기하도록 하려는 압력이 거세지고 있는 가운데, 일본과 북한의 외교관들이 외교 관계를 정상화하려는 회담을 재개했다.\n",
      ">> \"경호 로보트가 침입자나 화재를 탐지하기 위해서 개인적으로, 그리고 전문적으로 사용되고 있습니다.\"\n",
      ">> 수자원부 당국은 논란이 되고 있고, 막대한 비용이 드는 이 사업에 대해 내년에 건설을 시작할 계획이다.\n",
      ">> 또한 근력 운동은 활발하게 걷는 것이나 최소한 20분 동안 뛰는 것과 같은 유산소 활동에서 얻는 운동 효과를 심장과 폐에 주지 않기 때문에, 연구학자들은 근력 운동이 심장에 큰 영향을 미치는지 여부에 대해 논쟁을 해왔다.\n"
     ]
    }
   ],
   "source": [
    "with open(path_to_file_ko, \"r\") as f:\n",
    "    raw_ko = f.read().splitlines()\n",
    "    \n",
    "print(\"Data Size :\", len(raw_ko))\n",
    "print(\"Example :\")\n",
    "\n",
    "for sen in raw_ko[:100][::20]:\n",
    "    print(\">>\", sen)"
   ]
  },
  {
   "cell_type": "code",
   "execution_count": 5,
   "id": "bfc4cf31",
   "metadata": {},
   "outputs": [
    {
     "name": "stdout",
     "output_type": "stream",
     "text": [
      "Data Size : 94123\n",
      "Example :\n",
      ">> Much of personal computing is about \"can you top this?\"\n",
      ">> Amid mounting pressure on North Korea to abandon its nuclear weapons program Japanese and North Korean diplomats have resumed talks on normalizing diplomatic relations.\n",
      ">> “Guard robots are used privately and professionally to detect intruders or fire,” Karlsson said.\n",
      ">> Authorities from the Water Resources Ministry plan to begin construction next year on the controversial and hugely expensive project.\n",
      ">> Researchers also have debated whether weight-training has a big impact on the heart, since it does not give the heart and lungs the kind of workout they get from aerobic activities such as brisk walking or running for at least 20 minutes.\n"
     ]
    }
   ],
   "source": [
    "with open(path_to_file_en, \"r\") as f:\n",
    "    raw_en = f.read().splitlines()\n",
    "    \n",
    "print(\"Data Size :\", len(raw_en))\n",
    "print(\"Example :\")\n",
    "\n",
    "for sen in raw_en[:100][::20]:\n",
    "    print(\">>\", sen)"
   ]
  },
  {
   "cell_type": "markdown",
   "id": "26e2f2d9",
   "metadata": {},
   "source": [
    "## 2. 데이터 정제"
   ]
  },
  {
   "cell_type": "markdown",
   "id": "e439d9ed",
   "metadata": {},
   "source": [
    "### 중복 제거"
   ]
  },
  {
   "cell_type": "code",
   "execution_count": 6,
   "id": "0172484c",
   "metadata": {},
   "outputs": [
    {
     "data": {
      "text/plain": [
       "78968"
      ]
     },
     "execution_count": 6,
     "metadata": {},
     "output_type": "execute_result"
    }
   ],
   "source": [
    "raw = zip(raw_ko, raw_en)   # zip(): 데이터를 짝지어줌\n",
    "set_raw = set(raw)   # set(): 집합, 중복 제거\n",
    "len(set_raw)"
   ]
  },
  {
   "cell_type": "code",
   "execution_count": 7,
   "id": "2fb2f6cd",
   "metadata": {},
   "outputs": [],
   "source": [
    "cleaned_corpus_kor, cleaned_corpus_eng = zip(*set_raw)"
   ]
  },
  {
   "cell_type": "code",
   "execution_count": 8,
   "id": "f1a93362",
   "metadata": {},
   "outputs": [
    {
     "name": "stdout",
     "output_type": "stream",
     "text": [
      "korean data size : 78968\n",
      "english data size : 78968\n"
     ]
    }
   ],
   "source": [
    "print('korean data size :', len(cleaned_corpus_kor))\n",
    "print('english data size :', len(cleaned_corpus_eng))"
   ]
  },
  {
   "cell_type": "code",
   "execution_count": 9,
   "id": "0763bbc5",
   "metadata": {},
   "outputs": [
    {
     "data": {
      "text/plain": [
       "'“ 그것 참 기쁜 소식입니다.'"
      ]
     },
     "execution_count": 9,
     "metadata": {},
     "output_type": "execute_result"
    }
   ],
   "source": [
    "cleaned_corpus_kor[10]"
   ]
  },
  {
   "cell_type": "code",
   "execution_count": 10,
   "id": "e63e1d9c",
   "metadata": {},
   "outputs": [
    {
     "data": {
      "text/plain": [
       "\"“ That's terrific news.\""
      ]
     },
     "execution_count": 10,
     "metadata": {},
     "output_type": "execute_result"
    }
   ],
   "source": [
    "cleaned_corpus_eng[10]"
   ]
  },
  {
   "cell_type": "markdown",
   "id": "38a32e13",
   "metadata": {},
   "source": [
    "### 한국어 처리 / 데이터 선별"
   ]
  },
  {
   "cell_type": "code",
   "execution_count": 11,
   "id": "460c4f08",
   "metadata": {},
   "outputs": [],
   "source": [
    "\n",
    "def preprocess_sentence(sentence, s_token=False, e_token=False):\n",
    "    sentence = sentence.lower().strip()  # .strip(): 문장 양쪽 공백제거\n",
    "    \n",
    "    sentence = re.sub(r\"([?.!,])\", r\" \\1 \", sentence)\n",
    "    sentence = re.sub(r'[\" \"]+', \" \", sentence)\n",
    "    sentence = re.sub(r\"[^a-zA-Z?.!가-힣ㄱ-ㅎㅏ-ㅣ]+\", \" \", sentence)\n",
    "    \n",
    "    sentence = sentence.strip()\n",
    "    \n",
    "    if s_token:\n",
    "        sentence = '<start> ' + sentence   # 문장 앞에 <start> 추가\n",
    "        \n",
    "    if e_token:\n",
    "        sentence += ' <end>'   # 문장 뒤에 <end> 추가\n",
    "    \n",
    "        \n",
    "    return sentence\n",
    "\n",
    "# ecoder는 첫 입력으로 사용할 시작 토큰과 문장생성 종료를 알리는 끝 토큰이 반드시 필요"
   ]
  },
  {
   "cell_type": "code",
   "execution_count": 12,
   "id": "c13d6fa8",
   "metadata": {},
   "outputs": [
    {
     "name": "stdout",
     "output_type": "stream",
     "text": [
      "korean data size: 16514\n",
      "english data size: 16514\n",
      "Korean: 이 여성은 플로리다 텔러해시에서 조기투표를 마쳤습니다 .\n",
      "English: <start> that woman voted early in tallahassee florida . <end>\n"
     ]
    }
   ],
   "source": [
    "kor_corpus = []\n",
    "eng_corpus = []\n",
    "\n",
    "# num_examples = 30000\n",
    "cnt=0\n",
    "for kor, eng in zip(cleaned_corpus_kor, cleaned_corpus_eng):\n",
    "    temp_kor = preprocess_sentence(kor)\n",
    "    temp_eng = preprocess_sentence(eng, s_token=True, e_token=True)\n",
    "\n",
    "    if len(temp_kor) <= 40:   # 문장길이 40이하인 것만 사용\n",
    "        kor_corpus.append(temp_kor)\n",
    "        eng_corpus.append(temp_eng)\n",
    "    \n",
    "print('korean data size:', len(kor_corpus))\n",
    "print('english data size:', len(eng_corpus))\n",
    "print(\"Korean:\", kor_corpus[100])   \n",
    "print(\"English:\", eng_corpus[100])"
   ]
  },
  {
   "cell_type": "markdown",
   "id": "c8680181",
   "metadata": {},
   "source": [
    "##  3. 데이터 토큰화"
   ]
  },
  {
   "cell_type": "code",
   "execution_count": 15,
   "id": "d47dead5",
   "metadata": {},
   "outputs": [],
   "source": [
    "from konlpy.tag import Mecab\n",
    "\n",
    "vocab_size = 50000\n",
    "\n",
    "def tokenize(corpus, kor=False, eng=False):\n",
    "    if kor:\n",
    "        mecab = Mecab()\n",
    "        morph = [\" \".join(mecab.morphs(sen)) for sen in corpus]   # mecab.morphs(): 형태소단위로 나눠줌\n",
    "        \n",
    "        # tokenize() 함수를 사용해 토큰화하고 텐서로 변환\n",
    "        tokenizer = tf.keras.preprocessing.text.Tokenizer(filters='', \n",
    "                                                         num_words=vocab_size)  \n",
    "        tokenizer.fit_on_texts(morph)\n",
    "        \n",
    "        tensor = tokenizer.texts_to_sequences(morph)\n",
    "        tensor = tf.keras.preprocessing.sequence.pad_sequences(tensor, padding='post')\n",
    "        \n",
    "    if eng:\n",
    "        # tokenize() 함수를 사용해 토큰화하고 텐서로 변환\n",
    "        tokenizer = tf.keras.preprocessing.text.Tokenizer(filters='',\n",
    "                                                         num_words=vocab_size)\n",
    "        tokenizer.fit_on_texts(corpus)\n",
    "\n",
    "        tensor = tokenizer.texts_to_sequences(corpus)\n",
    "        tensor = tf.keras.preprocessing.sequence.pad_sequences(tensor, padding='post')\n",
    "\n",
    "    return tensor, tokenizer"
   ]
  },
  {
   "cell_type": "code",
   "execution_count": 16,
   "id": "a27a027c",
   "metadata": {},
   "outputs": [
    {
     "name": "stdout",
     "output_type": "stream",
     "text": [
      "Korean Vocab Size: 17597\n",
      "English Vocab Size: 17011\n"
     ]
    }
   ],
   "source": [
    "kor_tensor, kor_tokenizer = tokenize(kor_corpus, kor=True)\n",
    "eng_tensor, eng_tokenizer = tokenize(eng_corpus, eng=True)\n",
    "\n",
    "# 변환된 텐서를 80% 훈련데이터, 20% 검증데이터로 분리\n",
    "kor_train, kor_val, eng_train, eng_val = \\\n",
    "train_test_split(kor_tensor, eng_tensor, test_size=0.2)\n",
    "\n",
    "print(\"Korean Vocab Size:\", len(kor_tokenizer.index_word))  # .index_word: 숫자 매핑 사전 만들기. 즉, 단어별로 인덱스를 부여\n",
    "print(\"English Vocab Size:\", len(eng_tokenizer.index_word))"
   ]
  },
  {
   "cell_type": "markdown",
   "id": "a7e04383",
   "metadata": {},
   "source": [
    "## 4. 모델 설계"
   ]
  },
  {
   "cell_type": "code",
   "execution_count": 17,
   "id": "71fb504b",
   "metadata": {},
   "outputs": [],
   "source": [
    "class BahdanauAttention(tf.keras.layers.Layer):\n",
    "    def __init__(self, units):\n",
    "        super(BahdanauAttention, self).__init__()\n",
    "        self.w_dec = tf.keras.layers.Dense(units)\n",
    "        self.w_enc = tf.keras.layers.Dense(units)\n",
    "        self.w_com = tf.keras.layers.Dense(1)\n",
    "    \n",
    "    def call(self, h_enc, h_dec):\n",
    "        # h_enc shape: [batch x length x units]\n",
    "        # h_dec shape: [batch x units]\n",
    "\n",
    "        h_enc = self.w_enc(h_enc)\n",
    "        h_dec = tf.expand_dims(h_dec, 1)\n",
    "        h_dec = self.w_dec(h_dec)\n",
    "\n",
    "        score = self.w_com(tf.nn.tanh(h_dec + h_enc))\n",
    "        \n",
    "        attn = tf.nn.softmax(score, axis=1)\n",
    "\n",
    "        context_vec = attn * h_enc\n",
    "        context_vec = tf.reduce_sum(context_vec, axis=1)\n",
    "\n",
    "        return context_vec, attn"
   ]
  },
  {
   "cell_type": "code",
   "execution_count": 18,
   "id": "2896b057",
   "metadata": {},
   "outputs": [],
   "source": [
    "# Encoder\n",
    "class Encoder(tf.keras.Model):\n",
    "    def __init__(self, vocab_size, embedding_dim, enc_units):\n",
    "        super(Encoder, self).__init__()\n",
    "\n",
    "        self.enc_units = enc_units\n",
    "        self.embedding = tf.keras.layers.Embedding(vocab_size, embedding_dim)\n",
    "        self.gru = tf.keras.layers.GRU(enc_units,\n",
    "                                       return_sequences=True)\n",
    "\n",
    "    def call(self, x):\n",
    "        out = self.embedding(x)\n",
    "        out = self.gru(out)\n",
    "\n",
    "        return out"
   ]
  },
  {
   "cell_type": "code",
   "execution_count": 19,
   "id": "5be6f97f",
   "metadata": {},
   "outputs": [],
   "source": [
    "# Decoder\n",
    "class Decoder(tf.keras.Model):\n",
    "    def __init__(self, vocab_size, embedding_dim, dec_units):\n",
    "        super(Decoder, self).__init__()\n",
    "        self.dec_units = dec_units\n",
    "        self.embedding = tf.keras.layers.Embedding(vocab_size, embedding_dim)\n",
    "        self.gru = tf.keras.layers.GRU(dec_units,\n",
    "                                       return_sequences=True,\n",
    "                                       return_state=True)\n",
    "        self.fc = tf.keras.layers.Dense(vocab_size)\n",
    "\n",
    "        self.attention = BahdanauAttention(self.dec_units)\n",
    "\n",
    "    def call(self, x, h_dec, enc_out):\n",
    "        context_vec, attn = self.attention(enc_out, h_dec)\n",
    "\n",
    "        out = self.embedding(x)\n",
    "        out = tf.concat([tf.expand_dims(context_vec, 1), out], axis=-1)\n",
    "\n",
    "        out, h_dec = self.gru(out)\n",
    "        out = tf.reshape(out, (-1, out.shape[2]))\n",
    "        out = self.fc(out)\n",
    "\n",
    "        return out, h_dec, attn"
   ]
  },
  {
   "cell_type": "code",
   "execution_count": 20,
   "id": "508d3930",
   "metadata": {},
   "outputs": [
    {
     "name": "stdout",
     "output_type": "stream",
     "text": [
      "Encoder Output: (64, 40, 128)\n",
      "Decoder Output: (64, 17012)\n",
      "Decoder Hidden State: (64, 128)\n",
      "Attention: (64, 40, 1)\n"
     ]
    }
   ],
   "source": [
    "BATCH_SIZE     = 64\n",
    "SRC_VOCAB_SIZE = len(kor_tokenizer.index_word) + 1 \n",
    "TGT_VOCAB_SIZE = len(eng_tokenizer.index_word) + 1 \n",
    "\n",
    "units         = 128\n",
    "embedding_dim = 128\n",
    "\n",
    "encoder = Encoder(SRC_VOCAB_SIZE, embedding_dim, units)\n",
    "decoder = Decoder(TGT_VOCAB_SIZE, embedding_dim, units)\n",
    "\n",
    "# sample input\n",
    "sequence_len = 40\n",
    "\n",
    "sample_enc = tf.random.uniform((BATCH_SIZE, sequence_len))\n",
    "sample_output = encoder(sample_enc)\n",
    "\n",
    "print ('Encoder Output:', sample_output.shape)\n",
    "\n",
    "sample_state = tf.random.uniform((BATCH_SIZE, units))\n",
    "\n",
    "sample_logits, h_dec, attn = decoder(tf.random.uniform((BATCH_SIZE, 1)),\n",
    "                                     sample_state, sample_output)\n",
    "\n",
    "print ('Decoder Output:', sample_logits.shape)\n",
    "print ('Decoder Hidden State:', h_dec.shape)\n",
    "print ('Attention:', attn.shape)"
   ]
  },
  {
   "cell_type": "code",
   "execution_count": 21,
   "id": "c8b5e193",
   "metadata": {},
   "outputs": [],
   "source": [
    "# Optimizer & Loss\n",
    "# Encoder-Decoder 구조는 직접 Loss를 커스텀해서 사용함\n",
    "\n",
    "optimizer = tf.keras.optimizers.Adam()\n",
    "\n",
    "# SparseCategoricalCrossentropy(): 모델이 출력한 확률 분포와 (One-hot이 아닌) \n",
    "# 정수 인덱스 답안을 비교해 Cross Entropy값을 구해줌\n",
    "# from_logits 는 확률 분포가 Softmax를 거쳐서 들어오는지, 모델의 출력값 그대로 들어오는지를 결정\n",
    "# True 로 줬으니 모델의 출력값을 그대로 전달\n",
    "loss_object = tf.keras.losses.SparseCategoricalCrossentropy(\n",
    "    from_logits=True, reduction='none')   \n",
    "\n",
    "def loss_function(real, pred):\n",
    "    # mask 는 정답지에서 <PAD> 토큰을 찾아내어 그 부분에 대한 Loss는 구하지 않도록 하는 역할\n",
    "    # equal() 함수에 정확히는 0 이 아닌 <PAD> 토큰의 인덱스를 전달하는 것이 맞지만\n",
    "    # 대부분의 경우는 0으로 패딩되기 때문에 편의상 0을 전달하여 처리하도록 함\n",
    "    mask = tf.math.logical_not(tf.math.equal(real, 0))\n",
    "    loss = loss_object(real, pred)\n",
    "    \n",
    "    mask = tf.cast(mask, dtype=loss.dtype)\n",
    "    loss *= mask\n",
    "    \n",
    "    return tf.reduce_mean(loss)"
   ]
  },
  {
   "cell_type": "code",
   "execution_count": 22,
   "id": "5fb1f0db",
   "metadata": {},
   "outputs": [],
   "source": [
    "# train_step 구현하기\n",
    "\n",
    "@tf.function  # 훈련 외적인 텐서플로우 연산을 GPU에서 동작하게 해 훈련을 가속할 수 있도록 도와줌\n",
    "def train_step(src, tgt, encoder, decoder, optimizer, dec_tok):\n",
    "    bsz = src.shape[0]\n",
    "    loss = 0\n",
    "\n",
    "    with tf.GradientTape() as tape:   # tf.GradientTape()는 학습하며 발생한 모든 연산을 기록\n",
    "                                      # 모델이 각 스텝의 최종 단계에서 미분값을 구하는 데에 사용된다\n",
    "        enc_out = encoder(src)  # Encoder에 소스 문장을 전달해 컨텍스트 벡터인 enc_out 을 생성\n",
    "        h_dec = enc_out[:, -1]  # t=0일 때, Decoder의 Hidden State는 Encoder의 Final State로 정의\n",
    "        \n",
    "        # Decoder에 입력으로 전달할 <start> 토큰 문장 생성\n",
    "        dec_src = tf.expand_dims([dec_tok.word_index['<start>']] * bsz, 1)\n",
    "\n",
    "        for t in range(1, tgt.shape[1]):\n",
    "            # <start> 문장과 enc_out, Hidden State를 기반으로 다음 단어(t=1)를 예측\n",
    "            pred, h_dec, _ = decoder(dec_src, h_dec, enc_out)\n",
    "\n",
    "            loss += loss_function(tgt[:, t], pred)  # 예측된 단어와 정답 간의 Loss를 구함\n",
    "            dec_src = tf.expand_dims(tgt[:, t], 1)  # t=1의 정답 단어를 다음 입력으로 사용\n",
    "        \n",
    "    batch_loss = (loss / int(tgt.shape[1]))\n",
    "\n",
    "    variables = encoder.trainable_variables + decoder.trainable_variables\n",
    "    gradients = tape.gradient(loss, variables)\n",
    "    optimizer.apply_gradients(zip(gradients, variables))\n",
    "    \n",
    "    return batch_loss"
   ]
  },
  {
   "cell_type": "code",
   "execution_count": 23,
   "id": "745c5272",
   "metadata": {},
   "outputs": [],
   "source": [
    "# Validation Set을 사용하는 eval_step() 함수를 정의\n",
    "# train_step() 이후 eval_step() 진행하도록 소스 수정하기\n",
    "\n",
    "@tf.function\n",
    "def eval_step(src, tgt, encoder, decoder, dec_tok):\n",
    "    bsz = src.shape[0]\n",
    "    loss = 0\n",
    "\n",
    "    enc_out = encoder(src)\n",
    "\n",
    "    h_dec = enc_out[:, -1]\n",
    "\n",
    "    dec_src = tf.expand_dims([dec_tok.word_index['<start>']] * bsz, 1)\n",
    "\n",
    "    for t in range(1, tgt.shape[1]):\n",
    "        pred, h_dec, _ = decoder(dec_src, h_dec, enc_out)\n",
    "\n",
    "        loss += loss_function(tgt[:, t], pred)\n",
    "        dec_src = tf.expand_dims(tgt[:, t], 1)\n",
    "\n",
    "    batch_loss = (loss / int(tgt.shape[1]))\n",
    "\n",
    "    return batch_loss\n"
   ]
  },
  {
   "cell_type": "markdown",
   "id": "8fa6df24",
   "metadata": {},
   "source": [
    "## 5. 훈련하기"
   ]
  },
  {
   "cell_type": "code",
   "execution_count": 24,
   "id": "489681be",
   "metadata": {},
   "outputs": [
    {
     "name": "stderr",
     "output_type": "stream",
     "text": [
      "Epoch  1: 100%|██████████| 207/207 [02:13<00:00,  1.55it/s, Loss 1.5149]\n",
      "Test Epoch  1: 100%|██████████| 52/52 [00:42<00:00,  1.23it/s, Test Loss 1.4413]\n",
      "Epoch  2: 100%|██████████| 207/207 [00:23<00:00,  8.69it/s, Loss 1.4373]\n",
      "Test Epoch  2: 100%|██████████| 52/52 [00:02<00:00, 19.31it/s, Test Loss 1.4495]\n",
      "Epoch  3: 100%|██████████| 207/207 [00:23<00:00,  8.84it/s, Loss 1.4368]\n",
      "Test Epoch  3: 100%|██████████| 52/52 [00:02<00:00, 18.86it/s, Test Loss 1.4549]\n",
      "Epoch  4: 100%|██████████| 207/207 [00:23<00:00,  8.70it/s, Loss 1.4368]\n",
      "Test Epoch  4: 100%|██████████| 52/52 [00:02<00:00, 18.96it/s, Test Loss 1.4588]\n",
      "Epoch  5: 100%|██████████| 207/207 [00:23<00:00,  8.76it/s, Loss 1.4367]\n",
      "Test Epoch  5: 100%|██████████| 52/52 [00:02<00:00, 18.95it/s, Test Loss 1.4624]\n",
      "Epoch  6: 100%|██████████| 207/207 [00:23<00:00,  8.80it/s, Loss 1.4366]\n",
      "Test Epoch  6: 100%|██████████| 52/52 [00:02<00:00, 19.05it/s, Test Loss 1.4645]\n",
      "Epoch  7: 100%|██████████| 207/207 [00:23<00:00,  8.82it/s, Loss 1.4365]\n",
      "Test Epoch  7: 100%|██████████| 52/52 [00:02<00:00, 19.66it/s, Test Loss 1.4666]\n",
      "Epoch  8: 100%|██████████| 207/207 [00:23<00:00,  8.74it/s, Loss 1.4364]\n",
      "Test Epoch  8: 100%|██████████| 52/52 [00:02<00:00, 18.87it/s, Test Loss 1.4687]\n",
      "Epoch  9: 100%|██████████| 207/207 [00:24<00:00,  8.54it/s, Loss 1.4367]\n",
      "Test Epoch  9: 100%|██████████| 52/52 [00:02<00:00, 18.89it/s, Test Loss 1.4686]\n",
      "Epoch 10: 100%|██████████| 207/207 [00:23<00:00,  8.82it/s, Loss 1.4067]\n",
      "Test Epoch 10: 100%|██████████| 52/52 [00:02<00:00, 18.84it/s, Test Loss 1.3827]\n",
      "Epoch 11: 100%|██████████| 207/207 [00:23<00:00,  8.86it/s, Loss 1.3338]\n",
      "Test Epoch 11: 100%|██████████| 52/52 [00:02<00:00, 19.08it/s, Test Loss 1.3490]\n",
      "Epoch 12: 100%|██████████| 207/207 [00:23<00:00,  8.88it/s, Loss 1.2937]\n",
      "Test Epoch 12: 100%|██████████| 52/52 [00:02<00:00, 18.26it/s, Test Loss 1.3216]\n",
      "Epoch 13: 100%|██████████| 207/207 [00:23<00:00,  8.93it/s, Loss 1.2550]\n",
      "Test Epoch 13: 100%|██████████| 52/52 [00:02<00:00, 19.47it/s, Test Loss 1.2995]\n",
      "Epoch 14: 100%|██████████| 207/207 [00:23<00:00,  8.86it/s, Loss 1.2166]\n",
      "Test Epoch 14: 100%|██████████| 52/52 [00:02<00:00, 19.07it/s, Test Loss 1.2850]\n",
      "Epoch 15: 100%|██████████| 207/207 [00:23<00:00,  8.80it/s, Loss 1.1820]\n",
      "Test Epoch 15: 100%|██████████| 52/52 [00:02<00:00, 19.05it/s, Test Loss 1.2724]\n",
      "Epoch 16: 100%|██████████| 207/207 [00:23<00:00,  8.80it/s, Loss 1.1515]\n",
      "Test Epoch 16: 100%|██████████| 52/52 [00:02<00:00, 18.68it/s, Test Loss 1.2673]\n",
      "Epoch 17: 100%|██████████| 207/207 [00:23<00:00,  8.87it/s, Loss 1.1224]\n",
      "Test Epoch 17: 100%|██████████| 52/52 [00:02<00:00, 18.80it/s, Test Loss 1.2638]\n",
      "Epoch 18: 100%|██████████| 207/207 [00:23<00:00,  8.84it/s, Loss 1.0940]\n",
      "Test Epoch 18: 100%|██████████| 52/52 [00:02<00:00, 19.46it/s, Test Loss 1.2611]\n",
      "Epoch 19: 100%|██████████| 207/207 [00:23<00:00,  8.77it/s, Loss 1.0662]\n",
      "Test Epoch 19: 100%|██████████| 52/52 [00:02<00:00, 19.37it/s, Test Loss 1.2599]\n",
      "Epoch 20: 100%|██████████| 207/207 [00:24<00:00,  8.62it/s, Loss 1.0395]\n",
      "Test Epoch 20: 100%|██████████| 52/52 [00:02<00:00, 18.15it/s, Test Loss 1.2639]\n",
      "Epoch 21: 100%|██████████| 207/207 [00:23<00:00,  8.82it/s, Loss 1.0125]\n",
      "Test Epoch 21: 100%|██████████| 52/52 [00:02<00:00, 18.76it/s, Test Loss 1.2664]\n",
      "Epoch 22: 100%|██████████| 207/207 [00:23<00:00,  8.89it/s, Loss 0.9873]\n",
      "Test Epoch 22: 100%|██████████| 52/52 [00:02<00:00, 19.08it/s, Test Loss 1.2700]\n",
      "Epoch 23: 100%|██████████| 207/207 [00:23<00:00,  8.87it/s, Loss 0.9630]\n",
      "Test Epoch 23: 100%|██████████| 52/52 [00:02<00:00, 19.17it/s, Test Loss 1.2762]\n",
      "Epoch 24: 100%|██████████| 207/207 [00:23<00:00,  8.87it/s, Loss 0.9393]\n",
      "Test Epoch 24: 100%|██████████| 52/52 [00:02<00:00, 19.10it/s, Test Loss 1.2850]\n",
      "Epoch 25: 100%|██████████| 207/207 [00:23<00:00,  8.92it/s, Loss 0.9162]\n",
      "Test Epoch 25: 100%|██████████| 52/52 [00:02<00:00, 19.35it/s, Test Loss 1.2894]\n",
      "Epoch 26: 100%|██████████| 207/207 [00:23<00:00,  8.81it/s, Loss 0.8937]\n",
      "Test Epoch 26: 100%|██████████| 52/52 [00:02<00:00, 19.28it/s, Test Loss 1.2977]\n",
      "Epoch 27: 100%|██████████| 207/207 [00:23<00:00,  8.92it/s, Loss 0.8722]\n",
      "Test Epoch 27: 100%|██████████| 52/52 [00:02<00:00, 19.45it/s, Test Loss 1.3062]\n",
      "Epoch 28: 100%|██████████| 207/207 [00:23<00:00,  8.87it/s, Loss 0.8518]\n",
      "Test Epoch 28: 100%|██████████| 52/52 [00:02<00:00, 19.35it/s, Test Loss 1.3156]\n",
      "Epoch 29: 100%|██████████| 207/207 [00:23<00:00,  8.98it/s, Loss 0.8317]\n",
      "Test Epoch 29: 100%|██████████| 52/52 [00:02<00:00, 18.56it/s, Test Loss 1.3248]\n",
      "Epoch 30: 100%|██████████| 207/207 [00:23<00:00,  8.92it/s, Loss 0.8115]\n",
      "Test Epoch 30: 100%|██████████| 52/52 [00:02<00:00, 19.63it/s, Test Loss 1.3364]\n"
     ]
    }
   ],
   "source": [
    "# 훈련 시작\n",
    "\n",
    "from tqdm import tqdm\n",
    "\n",
    "EPOCHS = 30\n",
    "\n",
    "for epoch in range(EPOCHS):\n",
    "    total_loss = 0\n",
    "\n",
    "    idx_list = list(range(0, kor_train.shape[0], BATCH_SIZE))\n",
    "    random.shuffle(idx_list)\n",
    "    t = tqdm(idx_list)\n",
    "\n",
    "    for (batch, idx) in enumerate(t):\n",
    "        batch_loss = train_step(kor_train[idx:idx+BATCH_SIZE],\n",
    "                                eng_train[idx:idx+BATCH_SIZE],\n",
    "                                encoder,\n",
    "                                decoder,\n",
    "                                optimizer,\n",
    "                                eng_tokenizer)\n",
    "        \n",
    "        total_loss += batch_loss\n",
    "\n",
    "        t.set_description_str('Epoch %2d' % (epoch + 1))\n",
    "        t.set_postfix_str('Loss %.4f' % (total_loss.numpy() / (batch + 1)))\n",
    "\n",
    "    test_loss = 0\n",
    "\n",
    "    idx_list = list(range(0, kor_val.shape[0], BATCH_SIZE))\n",
    "    random.shuffle(idx_list)\n",
    "    t = tqdm(idx_list)\n",
    "\n",
    "    for (test_batch, idx) in enumerate(t):\n",
    "        test_batch_loss = eval_step(kor_val[idx:idx+BATCH_SIZE],\n",
    "                                    eng_val[idx:idx+BATCH_SIZE],\n",
    "                                    encoder,\n",
    "                                    decoder,\n",
    "                                    eng_tokenizer)\n",
    "\n",
    "        test_loss += test_batch_loss\n",
    "\n",
    "        t.set_description_str('Test Epoch %2d' % (epoch + 1))\n",
    "        t.set_postfix_str('Test Loss %.4f' % (test_loss.numpy() / (test_batch + 1)))"
   ]
  },
  {
   "cell_type": "code",
   "execution_count": 25,
   "id": "4d3d6595",
   "metadata": {},
   "outputs": [],
   "source": [
    "def evaluate(sentence, encoder, decoder):\n",
    "    attention = np.zeros((eng_train.shape[-1], kor_train.shape[-1]))\n",
    "    \n",
    "    sentence = preprocess_sentence(sentence)\n",
    "    inputs = kor_tokenizer.texts_to_sequences([sentence.split()])\n",
    "    inputs = tf.keras.preprocessing.sequence.pad_sequences(inputs,\n",
    "                                                          maxlen=kor_train.shape[-1],\n",
    "                                                          padding='post')\n",
    "    result = ''\n",
    "    \n",
    "    enc_out = encoder(inputs)\n",
    "    \n",
    "    dec_hidden = enc_out[:, -1]\n",
    "    dec_input = tf.expand_dims([eng_tokenizer.word_index['<start>']], 0)\n",
    "    \n",
    "    for t in range(eng_train.shape[-1]):\n",
    "        predictions, dec_hidden, attention_weights = decoder(dec_input,\n",
    "                                                            dec_hidden,\n",
    "                                                            enc_out)\n",
    "        \n",
    "        attention_weights = tf.reshape(attention_weights, (-1, ))\n",
    "        attention[t] = attention_weights.numpy()\n",
    "        \n",
    "        predicted_id = \\\n",
    "        tf.argmax(tf.math.softmax(predictions, axis=-1)[0]).numpy()\n",
    "        \n",
    "        result += eng_tokenizer.index_word[predicted_id] + ' '\n",
    "        \n",
    "        if eng_tokenizer.index_word[predicted_id] == '<end>':\n",
    "            return result, sentence, attention\n",
    "        \n",
    "        dec_input = tf.expand_dims([predicted_id], 0)\n",
    "    \n",
    "    return result, sentence, attention\n",
    "\n",
    "def plot_attention(attention, sentence, predicted_sentence):\n",
    "    fig = plt.figure(figsize=(10, 10))\n",
    "    ax = fig.add_subplot(1, 1, 1)\n",
    "    ax.matshow(attention, cmap='viridis')\n",
    "    \n",
    "    fontdict = {'fontsize' : 14}\n",
    "    \n",
    "    ax.set_xticklabels([''] + sentence, fontdict=fontdict, rotation=90)\n",
    "    ax.set_yticklabels([''] + predicted_sentence, fontdict=fontdict)\n",
    "    \n",
    "    ax.xaxis.set_major_locator(ticker.MultipleLocator(1))\n",
    "    ax.yaxis.set_major_locator(ticker.MultipleLocator(1))\n",
    "    \n",
    "    plt.show()\n",
    "    \n",
    "def translate(sentence, encoder, decoder):\n",
    "    result, sentence, attention = evaluate(sentence, encoder, decoder)\n",
    "    \n",
    "    print(\"Input: %s\" % (sentence))\n",
    "    print(\"Predicted translation: {}\".format(result))\n",
    "    \n",
    "    attention = attention[:len(result.split()), :len(sentence.split())]\n",
    "    plot_attention(attention, sentence.split(), result.split(' '))"
   ]
  },
  {
   "cell_type": "code",
   "execution_count": 32,
   "id": "3cde7d96",
   "metadata": {},
   "outputs": [
    {
     "name": "stdout",
     "output_type": "stream",
     "text": [
      "Input: 오바마는 대통령이다 .\n",
      "Predicted translation: . <end> \n"
     ]
    },
    {
     "name": "stderr",
     "output_type": "stream",
     "text": [
      "/tmp/ipykernel_48/164705771.py:43: UserWarning: FixedFormatter should only be used together with FixedLocator\n",
      "  ax.set_xticklabels([''] + sentence, fontdict=fontdict, rotation=90)\n",
      "/tmp/ipykernel_48/164705771.py:44: UserWarning: FixedFormatter should only be used together with FixedLocator\n",
      "  ax.set_yticklabels([''] + predicted_sentence, fontdict=fontdict)\n"
     ]
    },
    {
     "data": {
      "image/png": "[encoded data removed]",
      "text/plain": [
       "<Figure size 720x720 with 1 Axes>"
      ]
     },
     "metadata": {
      "image/png": {
       "height": 459,
       "width": 616
      },
      "needs_background": "light"
     },
     "output_type": "display_data"
    }
   ],
   "source": [
    "translate(\"오바마는 대통령이다.\", encoder, decoder)"
   ]
  },
  {
   "cell_type": "code",
   "execution_count": 33,
   "id": "fcc74886",
   "metadata": {},
   "outputs": [
    {
     "name": "stdout",
     "output_type": "stream",
     "text": [
      "Input: 시민들은 도시 속에 산다 .\n",
      "Predicted translation: . <end> \n"
     ]
    },
    {
     "name": "stderr",
     "output_type": "stream",
     "text": [
      "/tmp/ipykernel_48/164705771.py:43: UserWarning: FixedFormatter should only be used together with FixedLocator\n",
      "  ax.set_xticklabels([''] + sentence, fontdict=fontdict, rotation=90)\n",
      "/tmp/ipykernel_48/164705771.py:44: UserWarning: FixedFormatter should only be used together with FixedLocator\n",
      "  ax.set_yticklabels([''] + predicted_sentence, fontdict=fontdict)\n"
     ]
    },
    {
     "data": {
      "image/png": "[encoded data removed]",
      "text/plain": [
       "<Figure size 720x720 with 1 Axes>"
      ]
     },
     "metadata": {
      "image/png": {
       "height": 298,
       "width": 616
      },
      "needs_background": "light"
     },
     "output_type": "display_data"
    }
   ],
   "source": [
    "translate(\"시민들은 도시 속에 산다.\", encoder, decoder)"
   ]
  },
  {
   "cell_type": "code",
   "execution_count": 34,
   "id": "9162e93f",
   "metadata": {},
   "outputs": [
    {
     "name": "stdout",
     "output_type": "stream",
     "text": [
      "Input: 커피는 필요 없다 .\n",
      "Predicted translation: it s not going to be very very very very very very very very very very very very very very very very very very very very very very very very very very very very very very very very very very very very very very very very very very very very very very very very very very very very very very very very very very very very very \n"
     ]
    },
    {
     "name": "stderr",
     "output_type": "stream",
     "text": [
      "/tmp/ipykernel_48/164705771.py:43: UserWarning: FixedFormatter should only be used together with FixedLocator\n",
      "  ax.set_xticklabels([''] + sentence, fontdict=fontdict, rotation=90)\n",
      "/tmp/ipykernel_48/164705771.py:44: UserWarning: FixedFormatter should only be used together with FixedLocator\n",
      "  ax.set_yticklabels([''] + predicted_sentence, fontdict=fontdict)\n"
     ]
    },
    {
     "data": {
      "image/png": "[encoded data removed]",
      "text/plain": [
       "<Figure size 720x720 with 1 Axes>"
      ]
     },
     "metadata": {
      "image/png": {
       "height": 607,
       "width": 93
      },
      "needs_background": "light"
     },
     "output_type": "display_data"
    }
   ],
   "source": [
    "translate(\"커피는 필요 없다.\", encoder, decoder)"
   ]
  },
  {
   "cell_type": "code",
   "execution_count": 35,
   "id": "e2736fa2",
   "metadata": {},
   "outputs": [
    {
     "name": "stdout",
     "output_type": "stream",
     "text": [
      "Input: 일곱 명의 사망자가 발생했다 .\n",
      "Predicted translation: police said . <end> \n"
     ]
    },
    {
     "name": "stderr",
     "output_type": "stream",
     "text": [
      "/tmp/ipykernel_48/164705771.py:43: UserWarning: FixedFormatter should only be used together with FixedLocator\n",
      "  ax.set_xticklabels([''] + sentence, fontdict=fontdict, rotation=90)\n",
      "/tmp/ipykernel_48/164705771.py:44: UserWarning: FixedFormatter should only be used together with FixedLocator\n",
      "  ax.set_yticklabels([''] + predicted_sentence, fontdict=fontdict)\n"
     ]
    },
    {
     "data": {
      "image/png": "[encoded data removed]",
      "text/plain": [
       "<Figure size 720x720 with 1 Axes>"
      ]
     },
     "metadata": {
      "image/png": {
       "height": 521,
       "width": 617
      },
      "needs_background": "light"
     },
     "output_type": "display_data"
    }
   ],
   "source": [
    "translate(\"일곱 명의 사망자가 발생했다.\", encoder, decoder)"
   ]
  },
  {
   "cell_type": "markdown",
   "id": "42723304",
   "metadata": {},
   "source": [
    "# 회고"
   ]
  },
  {
   "cell_type": "markdown",
   "id": "25274061",
   "metadata": {},
   "source": [
    "- 한국어 토큰화는 잘 진행된 것으로 보이는데 모델 훈련 후 결과는 형편없다.  \n",
    "- 한국어 데이터와 영문 데이터에 불필요하거나 잘못된 데이터들이 섞여있을 것이라 추측한다.\n",
    "- 이 부분에서 데이터 정제와 분석이 중요하다는 것을 깨달았다. 다음 노드에서는 더 자세하게 살펴봐야겠다고 생각했다.\n",
    "- loss 는 훈련하는 동안 조금씩 줄어들었다.\n",
    "- Transformer 번역기 결과가 기대된다."
   ]
  },
  {
   "cell_type": "markdown",
   "id": "b57b4450",
   "metadata": {},
   "source": [
    "# 참고사이트"
   ]
  },
  {
   "cell_type": "markdown",
   "id": "facc001d",
   "metadata": {},
   "source": [
    "[참고깃허브](https://github.com/miinkang/AI_Project_AIFFEL/blob/main/%5BGD-08%5Dattention_based_seq2seq_translation.ipynb)"
   ]
  }
 ],
 "metadata": {
  "kernelspec": {
   "display_name": "Python 3 (ipykernel)",
   "language": "python",
   "name": "python3"
  },
  "language_info": {
   "codemirror_mode": {
    "name": "ipython",
    "version": 3
   },
   "file_extension": ".py",
   "mimetype": "text/x-python",
   "name": "python",
   "nbconvert_exporter": "python",
   "pygments_lexer": "ipython3",
   "version": "3.9.7"
  }
 },
 "nbformat": 4,
 "nbformat_minor": 5
}
